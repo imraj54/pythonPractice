{
 "cells": [
  {
   "cell_type": "markdown",
   "id": "930386fb",
   "metadata": {},
   "source": [
    "# PRACTICE logical Program\n"
   ]
  },
  {
   "cell_type": "code",
   "execution_count": 2,
   "id": "7c1871b9",
   "metadata": {},
   "outputs": [],
   "source": [
    "# String"
   ]
  },
  {
   "cell_type": "code",
   "execution_count": 3,
   "id": "245c1601",
   "metadata": {},
   "outputs": [
    {
     "name": "stdout",
     "output_type": "stream",
     "text": [
      "repoleved nohtyP sa gnikrow ma I\n"
     ]
    }
   ],
   "source": [
    "# Find the proogram to reverse the String\n",
    "a = \"I am working as Python developer\"\n",
    "b = \"\"\n",
    "for i in a:\n",
    "    b = i +b\n",
    "print(b)\n"
   ]
  },
  {
   "cell_type": "code",
   "execution_count": 101,
   "id": "7585fb96",
   "metadata": {},
   "outputs": [
    {
     "name": "stdout",
     "output_type": "stream",
     "text": [
      "I ma gnikrow sa nohtyP repoleved "
     ]
    }
   ],
   "source": [
    "# Find the program for String words reverse only \n",
    "# 1) Using split and Slicing\n",
    "a = \"I am working as Python developer\"\n",
    "a = a.split()\n",
    "\n",
    "for i in a:\n",
    "    print(i[::-1],end=' ')\n"
   ]
  },
  {
   "cell_type": "code",
   "execution_count": 16,
   "id": "8267c9d8",
   "metadata": {},
   "outputs": [
    {
     "name": "stdout",
     "output_type": "stream",
     "text": [
      " I  ma gnikrow sa nohtyP developer\n"
     ]
    }
   ],
   "source": [
    "#2) using Logic \n",
    "string = \"I am working as Python developer\"\n",
    "a = ' '\n",
    "temp =' '\n",
    "for i in string:\n",
    "    if  i!= \" \":\n",
    "        temp += i\n",
    "        continue\n",
    "    rev =\"\"\n",
    "    for char in range(len(temp)):\n",
    "        rev += temp[len(temp)-char-1] \n",
    "    a += rev +' '\n",
    "    temp = ''\n",
    "a = a +temp\n",
    "print(a)"
   ]
  },
  {
   "cell_type": "code",
   "execution_count": 30,
   "id": "6dba453e",
   "metadata": {},
   "outputs": [
    {
     "name": "stdout",
     "output_type": "stream",
     "text": [
      "developer Python as working am I\n"
     ]
    }
   ],
   "source": [
    "# Find the program for String words reverse\n",
    "# 1) Using split and Slicing\n",
    "a = \"I am working as Python developer\"\n",
    "a = a.split()\n",
    "a = a[::-1]\n",
    "print(\" \".join(a))"
   ]
  },
  {
   "cell_type": "code",
   "execution_count": 119,
   "id": "76ad1356",
   "metadata": {},
   "outputs": [
    {
     "name": "stdout",
     "output_type": "stream",
     "text": [
      "developer Python as working am I \n"
     ]
    }
   ],
   "source": [
    "# 2) Using split and Slicing using Logic \n",
    "a = \"I am working as Python developer\"\n",
    "a = a.split()\n",
    "# b = a[::-1]\n",
    "b = \"\"\n",
    "for i in a:\n",
    "     b =i+ \" \" + b\n",
    "print(b)"
   ]
  },
  {
   "cell_type": "code",
   "execution_count": 19,
   "id": "c1160230",
   "metadata": {},
   "outputs": [
    {
     "name": "stdout",
     "output_type": "stream",
     "text": [
      "developer Python as working am I \n"
     ]
    }
   ],
   "source": [
    "#3)using pure logic\n",
    "string = \"I am working as Python developer\"\n",
    "a = ''\n",
    "temp =''\n",
    "for i in string:\n",
    "    if  i!= \" \":\n",
    "        temp = temp+i\n",
    "    else:\n",
    "        a = temp + \" \" + a\n",
    "        temp = ''\n",
    "a = temp + \" \" + a\n",
    "print(a)"
   ]
  },
  {
   "cell_type": "code",
   "execution_count": 151,
   "id": "9f28e16d",
   "metadata": {},
   "outputs": [
    {
     "data": {
      "text/plain": [
       "' '"
      ]
     },
     "execution_count": 151,
     "metadata": {},
     "output_type": "execute_result"
    }
   ],
   "source": [
    "def Word(a):\n",
    "    b = {}\n",
    "    for i in a:\n",
    "        if i in b:\n",
    "            return i\n",
    "        else:\n",
    "            b[i]=0\n",
    "    return ' '\n",
    "string = \"I am working as Python developer\"\n",
    "Word(string)"
   ]
  },
  {
   "cell_type": "code",
   "execution_count": 218,
   "id": "c565e991",
   "metadata": {},
   "outputs": [
    {
     "data": {
      "text/plain": [
       "' '"
      ]
     },
     "execution_count": 218,
     "metadata": {},
     "output_type": "execute_result"
    }
   ],
   "source": [
    "def E(s):\n",
    "    b = {}\n",
    "    for i in string:\n",
    "        if i in b:\n",
    "            return i\n",
    "        else:\n",
    "            b[i]=0\n",
    "    return \n",
    "string = \"I am working as Python developer\"\n",
    "E(string)"
   ]
  },
  {
   "cell_type": "code",
   "execution_count": 209,
   "id": "5fd9c31b",
   "metadata": {},
   "outputs": [
    {
     "name": "stdout",
     "output_type": "stream",
     "text": [
      "Most frequent character:   \n"
     ]
    }
   ],
   "source": [
    "string = \"I am working as Python developer\"\n",
    "\n",
    "char_freq={}\n",
    "\n",
    "for i in string:\n",
    "    if i in char_freq:\n",
    "        char_freq[i]=char_freq[i]+1\n",
    "    else:\n",
    "        char_freq[i] = 0\n",
    "result= max(char_freq, key = char_freq.get)\n",
    "\n",
    "print(\"Most frequent character: \",result)"
   ]
  },
  {
   "cell_type": "code",
   "execution_count": null,
   "id": "6b7f163a",
   "metadata": {},
   "outputs": [],
   "source": []
  },
  {
   "cell_type": "code",
   "execution_count": 26,
   "id": "f5b362a7",
   "metadata": {},
   "outputs": [
    {
     "data": {
      "text/plain": [
       "'I ma gnikrow sa nohtyP developer'"
      ]
     },
     "execution_count": 26,
     "metadata": {},
     "output_type": "execute_result"
    }
   ],
   "source": [
    "def Revs(sen):\n",
    "    a = \"\"\n",
    "    temp = \"\"\n",
    "    for i in string:\n",
    "        if  i !=\" \":\n",
    "            temp += i\n",
    "            continue\n",
    "        rev = \"\"\n",
    "        for ch in range(len(temp)):\n",
    "            rev+= temp[len(temp)-ch-1]\n",
    "        a += rev + \" \"\n",
    "        temp = ''\n",
    "    return a + temp\n",
    "string = \"I am working as Python developer\"\n",
    "Revs(string)\n",
    "        "
   ]
  },
  {
   "cell_type": "code",
   "execution_count": 35,
   "id": "c8976e62",
   "metadata": {},
   "outputs": [
    {
     "name": "stdout",
     "output_type": "stream",
     "text": [
      "developer a am  I  \n"
     ]
    }
   ],
   "source": [
    "sry = \"I am a developer\"\n",
    "a = \" \"\n",
    "t = \" \"\n",
    "for i in sry:\n",
    "    if i != \" \":\n",
    "        t +=i\n",
    "    else:\n",
    "        a = t +\" \"+a\n",
    "        t =\"\"\n",
    "a = t +\" \"+ a\n",
    "print(a)"
   ]
  },
  {
   "cell_type": "code",
   "execution_count": 37,
   "id": "b9053b93",
   "metadata": {},
   "outputs": [
    {
     "data": {
      "text/plain": [
       "' '"
      ]
     },
     "execution_count": 37,
     "metadata": {},
     "output_type": "execute_result"
    }
   ],
   "source": [
    "def Find(sen):\n",
    "    b ={}\n",
    "    for i in sen:\n",
    "        if i in b:\n",
    "            return i\n",
    "        else:\n",
    "            b[i]=0\n",
    "    return \n",
    "Find(\" He llo World!\")"
   ]
  },
  {
   "cell_type": "code",
   "execution_count": 43,
   "id": "2e5763de",
   "metadata": {},
   "outputs": [
    {
     "ename": "NameError",
     "evalue": "name 'h' is not defined",
     "output_type": "error",
     "traceback": [
      "\u001b[1;31m---------------------------------------------------------------------------\u001b[0m",
      "\u001b[1;31mNameError\u001b[0m                                 Traceback (most recent call last)",
      "Input \u001b[1;32mIn [43]\u001b[0m, in \u001b[0;36m<cell line: 3>\u001b[1;34m()\u001b[0m\n\u001b[0;32m      2\u001b[0m r \u001b[38;5;241m=\u001b[39m \u001b[38;5;124m\"\u001b[39m\u001b[38;5;124m\"\u001b[39m\n\u001b[0;32m      3\u001b[0m \u001b[38;5;28;01mfor\u001b[39;00m i \u001b[38;5;129;01min\u001b[39;00m a:\n\u001b[1;32m----> 4\u001b[0m     \u001b[38;5;28;01mif\u001b[39;00m i \u001b[38;5;241m==\u001b[39m \u001b[43mh\u001b[49m :\n\u001b[0;32m      5\u001b[0m         \u001b[38;5;28;01mcontinue\u001b[39;00m\n\u001b[0;32m      6\u001b[0m \u001b[38;5;28mprint\u001b[39m(r)\n",
      "\u001b[1;31mNameError\u001b[0m: name 'h' is not defined"
     ]
    }
   ],
   "source": [
    "a = 'hello Rahul'\n",
    "r = \"\"\n",
    "for i in a:\n",
    "    if i == h :\n",
    "        continue\n",
    "print(r)\n",
    "    "
   ]
  },
  {
   "cell_type": "code",
   "execution_count": 50,
   "id": "2ea5f460",
   "metadata": {},
   "outputs": [
    {
     "data": {
      "text/plain": [
       "'sihT si a gnirts ot try'"
      ]
     },
     "execution_count": 50,
     "metadata": {},
     "output_type": "execute_result"
    }
   ],
   "source": [
    "def reverse(sentence):\n",
    "    answer = ''\n",
    "    temp = ''\n",
    "    for char in sentence:\n",
    "        if char != ' ':\n",
    "            temp += char\n",
    "            continue\n",
    "        rev = ''\n",
    "        for i in range(len(temp)):\n",
    "            rev += temp[len(temp)-i-1]\n",
    "        answer += rev + ' '\n",
    "        temp = ''\n",
    "    return answer + temp\n",
    "reverse(\"This is a string to try\")"
   ]
  },
  {
   "cell_type": "code",
   "execution_count": 57,
   "id": "8d288ec7",
   "metadata": {},
   "outputs": [
    {
     "name": "stdout",
     "output_type": "stream",
     "text": [
      "0 Chris\n",
      "1 Jack\n",
      "2 John\n",
      "3 Daman\n"
     ]
    }
   ],
   "source": [
    "names = ['Chris', 'Jack', 'John', 'Daman']\n",
    "for i,name in enumerate(names):\n",
    "    print(i,name)\n"
   ]
  },
  {
   "cell_type": "code",
   "execution_count": 63,
   "id": "911a9957",
   "metadata": {},
   "outputs": [
    {
     "name": "stdout",
     "output_type": "stream",
     "text": [
      "55\n"
     ]
    }
   ],
   "source": [
    "print (sum(range(1,11)))"
   ]
  },
  {
   "cell_type": "code",
   "execution_count": 60,
   "id": "82d9246b",
   "metadata": {},
   "outputs": [
    {
     "ename": "NameError",
     "evalue": "name 'uniform' is not defined",
     "output_type": "error",
     "traceback": [
      "\u001b[1;31m---------------------------------------------------------------------------\u001b[0m",
      "\u001b[1;31mNameError\u001b[0m                                 Traceback (most recent call last)",
      "Input \u001b[1;32mIn [60]\u001b[0m, in \u001b[0;36m<cell line: 1>\u001b[1;34m()\u001b[0m\n\u001b[1;32m----> 1\u001b[0m \u001b[43muniform\u001b[49m(X, Y) \n\u001b[0;32m      2\u001b[0m \u001b[38;5;28mprint\u001b[39m(\u001b[38;5;241m4\u001b[39m,\u001b[38;5;241m5\u001b[39m)\n",
      "\u001b[1;31mNameError\u001b[0m: name 'uniform' is not defined"
     ]
    }
   ],
   "source": []
  },
  {
   "cell_type": "code",
   "execution_count": 75,
   "id": "c5c4b783",
   "metadata": {},
   "outputs": [
    {
     "name": "stdout",
     "output_type": "stream",
     "text": [
      "['Amir', 'Bear', 'Charlton', 'Daman']\n",
      "['Amir', 'Bear', 'Charlton', 'Daman']\n",
      "['Alice', 'Bear', 'Charlton', 'Daman']\n",
      "['Amir', 'Bob', 'Charlton', 'Daman']\n",
      "12\n"
     ]
    }
   ],
   "source": [
    "names1 = ['Amir', 'Bear', 'Charlton', 'Daman']\n",
    "names2 = names1\n",
    "print(names2)\n",
    "names3 = names1[:]\n",
    "print(names3)\n",
    "\n",
    "names2[0] = 'Alice'\n",
    "print(names2)\n",
    "names3[1] = 'Bob'\n",
    "print(names3)\n",
    "\n",
    "sum = 0\n",
    "for ls in (names1, names2, names3):\n",
    "    if ls[0] == 'Alice':\n",
    "        sum += 1\n",
    "        \n",
    "    if ls[1] == 'Bob':\n",
    "        sum += 10\n",
    "        print(sum)\n",
    "\n",
    "# print (sum)"
   ]
  },
  {
   "cell_type": "code",
   "execution_count": 89,
   "id": "008c4005",
   "metadata": {},
   "outputs": [],
   "source": [
    "a=['hel', 'l', 'o']"
   ]
  },
  {
   "cell_type": "code",
   "execution_count": 91,
   "id": "677ded6c",
   "metadata": {},
   "outputs": [
    {
     "name": "stdout",
     "output_type": "stream",
     "text": [
      "hello\n"
     ]
    }
   ],
   "source": [
    "print(''.join(a))"
   ]
  },
  {
   "cell_type": "code",
   "execution_count": 94,
   "id": "e7b0b66d",
   "metadata": {},
   "outputs": [
    {
     "ename": "TypeError",
     "evalue": "sequence item 7: expected str instance, int found",
     "output_type": "error",
     "traceback": [
      "\u001b[1;31m---------------------------------------------------------------------------\u001b[0m",
      "\u001b[1;31mTypeError\u001b[0m                                 Traceback (most recent call last)",
      "Input \u001b[1;32mIn [94]\u001b[0m, in \u001b[0;36m<cell line: 2>\u001b[1;34m()\u001b[0m\n\u001b[0;32m      1\u001b[0m weekdays \u001b[38;5;241m=\u001b[39m [\u001b[38;5;124m'\u001b[39m\u001b[38;5;124msun\u001b[39m\u001b[38;5;124m'\u001b[39m,\u001b[38;5;124m'\u001b[39m\u001b[38;5;124mmon\u001b[39m\u001b[38;5;124m'\u001b[39m,\u001b[38;5;124m'\u001b[39m\u001b[38;5;124mtue\u001b[39m\u001b[38;5;124m'\u001b[39m,\u001b[38;5;124m'\u001b[39m\u001b[38;5;124mwed\u001b[39m\u001b[38;5;124m'\u001b[39m,\u001b[38;5;124m'\u001b[39m\u001b[38;5;124mthu\u001b[39m\u001b[38;5;124m'\u001b[39m,\u001b[38;5;124m'\u001b[39m\u001b[38;5;124mfri\u001b[39m\u001b[38;5;124m'\u001b[39m,\u001b[38;5;124m'\u001b[39m\u001b[38;5;124msat\u001b[39m\u001b[38;5;124m'\u001b[39m,\u001b[38;5;241m1\u001b[39m,\u001b[38;5;241m2\u001b[39m,\u001b[38;5;241m3\u001b[39m,\u001b[38;5;241m2\u001b[39m]\n\u001b[1;32m----> 2\u001b[0m listAsString \u001b[38;5;241m=\u001b[39m \u001b[38;5;124;43m'\u001b[39;49m\u001b[38;5;124;43m \u001b[39;49m\u001b[38;5;124;43m'\u001b[39;49m\u001b[38;5;241;43m.\u001b[39;49m\u001b[43mjoin\u001b[49m\u001b[43m(\u001b[49m\u001b[43mweekdays\u001b[49m\u001b[43m)\u001b[49m\n\u001b[0;32m      3\u001b[0m \u001b[38;5;28mprint\u001b[39m(listAsString)\n",
      "\u001b[1;31mTypeError\u001b[0m: sequence item 7: expected str instance, int found"
     ]
    }
   ],
   "source": [
    "weekdays = ['sun','mon','tue','wed','thu','fri','sat',1,2,3,2]\n",
    "listAsString = ' '.join(weekdays)\n",
    "print(listAsString)"
   ]
  },
  {
   "cell_type": "code",
   "execution_count": 105,
   "id": "1d34f181",
   "metadata": {},
   "outputs": [
    {
     "name": "stdout",
     "output_type": "stream",
     "text": [
      "Rahul jadhav\n"
     ]
    }
   ],
   "source": [
    "a = \"Rahul\"\n",
    "b = \"jadhav\"\n",
    "print(a+ \" \"+ b)"
   ]
  },
  {
   "cell_type": "code",
   "execution_count": 109,
   "id": "8379224c",
   "metadata": {},
   "outputs": [
    {
     "name": "stdout",
     "output_type": "stream",
     "text": [
      "1\n"
     ]
    }
   ],
   "source": [
    "globvar = 0\n",
    "def set_globvar_to_one():\n",
    "    global globvar # Needed to modify global copy of globvar\n",
    "    globvar = 1\n",
    "def print_globvar():\n",
    "    print (globvar) # No need for global declaration to read value of globvar\n",
    "set_globvar_to_one()\n",
    "print_globvar() # Prints 1"
   ]
  },
  {
   "cell_type": "code",
   "execution_count": 121,
   "id": "098d72ed",
   "metadata": {},
   "outputs": [
    {
     "name": "stdout",
     "output_type": "stream",
     "text": [
      "Enter the elemet2\n",
      "Enter the Element30\n",
      "Enter the Element50\n",
      "40.0\n"
     ]
    }
   ],
   "source": [
    "\n",
    "n =int(input(\"Enter the elemet\"))\n",
    "a = []\n",
    "for i in range(0,n):\n",
    "    r = int(input(\"Enter the Element\"))\n",
    "    a.append(r)\n",
    "r = sum(a)\n",
    "avg = r/n\n",
    "print(avg)"
   ]
  },
  {
   "cell_type": "code",
   "execution_count": 122,
   "id": "ea106c72",
   "metadata": {},
   "outputs": [
    {
     "data": {
      "text/plain": [
       "54321"
      ]
     },
     "execution_count": 122,
     "metadata": {},
     "output_type": "execute_result"
    }
   ],
   "source": [
    "n = 12345\n",
    "rev = 0\n",
    "while n != 0:\n",
    "    digit = n%10\n",
    "    rev = rev*10+digit\n",
    "    n = n//10\n",
    "rev"
   ]
  },
  {
   "cell_type": "code",
   "execution_count": 123,
   "id": "39c52d9c",
   "metadata": {},
   "outputs": [
    {
     "data": {
      "text/plain": [
       "10"
      ]
     },
     "execution_count": 123,
     "metadata": {},
     "output_type": "execute_result"
    }
   ],
   "source": [
    "n =1234\n",
    "s =0\n",
    "while n!=0:\n",
    "    digit =n%10\n",
    "    s = s+digit\n",
    "    n =n//10\n",
    "s"
   ]
  },
  {
   "cell_type": "code",
   "execution_count": 1,
   "id": "3bad7fd1",
   "metadata": {},
   "outputs": [],
   "source": [
    "def A():\n",
    "    a =\"nitin\"\n",
    "    \n"
   ]
  },
  {
   "cell_type": "code",
   "execution_count": 25,
   "id": "f0208cca",
   "metadata": {},
   "outputs": [
    {
     "name": "stdout",
     "output_type": "stream",
     "text": [
      "6\n",
      "NUMBER OF CANDIES SOLD:6\n",
      "NUMBER OF CANDIES AVAILABLE:4\n"
     ]
    }
   ],
   "source": [
    "i = int(input())\n",
    "n = 10\n",
    "k = 5\n",
    "if(i >n):\n",
    "       print(\"INVALID INPUT\")\n",
    "       print(\"NUMBER OF CANDIES AVAILABLE:\", end=\"\")\n",
    "       print(n)\n",
    "elif(i <= 0):\n",
    "       print(\"INVALID INPUT\")\n",
    "       print(\"NUMBER OF CANDIES AVAILABLE:\", end=\"\")\n",
    "       print(n)\n",
    "\n",
    "else:\n",
    "      print(\"NUMBER OF CANDIES SOLD:\", end=\"\")\n",
    "      print(i)\n",
    "      print(\"NUMBER OF CANDIES AVAILABLE:\", end=\"\")\n",
    "      print(n-i)"
   ]
  },
  {
   "cell_type": "code",
   "execution_count": null,
   "id": "0876ea1d",
   "metadata": {},
   "outputs": [],
   "source": []
  },
  {
   "cell_type": "code",
   "execution_count": 52,
   "id": "fadecf13",
   "metadata": {},
   "outputs": [
    {
     "data": {
      "text/plain": [
       "False"
      ]
     },
     "execution_count": 52,
     "metadata": {},
     "output_type": "execute_result"
    }
   ],
   "source": [
    "def lucky8(a,b):\n",
    "    if a==8 or  b==8:\n",
    "        return True\n",
    "    elif a+b==8:\n",
    "        return True\n",
    "    elif a-b==8:\n",
    "        return True\n",
    "    else:\n",
    "        return False\n",
    "lucky8(9,1)\n",
    "\n",
    "lucky8(100,8)\n",
    "lucky8(7,1)\n",
    "lucky8(9,9)\n"
   ]
  },
  {
   "cell_type": "code",
   "execution_count": 3,
   "id": "8f7d2193",
   "metadata": {},
   "outputs": [
    {
     "name": "stdout",
     "output_type": "stream",
     "text": [
      "a5b4c5v3"
     ]
    }
   ],
   "source": [
    "a = \"aaaaabbbbccvvvccc\"\n",
    "d ={}\n",
    "for i in a:\n",
    "    if i in d.keys():\n",
    "        d[i]+=1\n",
    "    else:\n",
    "        d[i]=1\n",
    "for i,j in d.items():\n",
    "    print(\"{}{}\".format(i,j),end=\"\")"
   ]
  },
  {
   "cell_type": "code",
   "execution_count": 9,
   "id": "41b4cf4a",
   "metadata": {},
   "outputs": [
    {
     "name": "stdout",
     "output_type": "stream",
     "text": [
      "Office in am I \n"
     ]
    }
   ],
   "source": [
    "st =\"I am in Office\"\n",
    "rev =\"\"\n",
    "temp = \"\"\n",
    "for ch in st:\n",
    "    if ch != \" \":\n",
    "        temp+=ch\n",
    "    else:\n",
    "        rev = temp + \" \" +rev\n",
    "        temp = ''\n",
    "rev = temp + \" \" + rev\n",
    "print(rev)"
   ]
  },
  {
   "cell_type": "code",
   "execution_count": 14,
   "id": "9c07d359",
   "metadata": {},
   "outputs": [
    {
     "data": {
      "text/plain": [
       "' '"
      ]
     },
     "execution_count": 14,
     "metadata": {},
     "output_type": "execute_result"
    }
   ],
   "source": [
    "def ReturnChar(s):\n",
    "    b = {}\n",
    "    for i in s:\n",
    "        if i in b:\n",
    "            return i\n",
    "        else:\n",
    "            b[i]=0\n",
    "    return \"\"\n",
    "st =\" I am  in Office\"\n",
    "ReturnChar(st)\n"
   ]
  },
  {
   "cell_type": "code",
   "execution_count": 18,
   "id": "660cf9f3",
   "metadata": {},
   "outputs": [
    {
     "data": {
      "text/plain": [
       "'eciffO ni  ma I  '"
      ]
     },
     "execution_count": 18,
     "metadata": {},
     "output_type": "execute_result"
    }
   ],
   "source": [
    "st =\" I am  in Office\"\n",
    "a = \" \"\n",
    "for i in st:\n",
    "    a = i+a\n",
    "a\n"
   ]
  },
  {
   "cell_type": "code",
   "execution_count": 148,
   "id": "863e2b5f",
   "metadata": {},
   "outputs": [
    {
     "data": {
      "text/plain": [
       "'I ma ni eciffO'"
      ]
     },
     "execution_count": 148,
     "metadata": {},
     "output_type": "execute_result"
    }
   ],
   "source": [
    "st =\" I am  in Office\"\n",
    "result = \"\"\n",
    "word = \"\"\n",
    "for i in (st + \" \"):\n",
    "    if i == \" \":\n",
    "        if word:\n",
    "            result = result + (result and \" \") + word\n",
    "            word = \"\"\n",
    "    else:\n",
    "        word = i + word\n",
    "result"
   ]
  },
  {
   "cell_type": "code",
   "execution_count": 170,
   "id": "35b39340",
   "metadata": {},
   "outputs": [
    {
     "data": {
      "text/plain": [
       "[1, 2, 3, 4, 5, 6, 7, 8]"
      ]
     },
     "execution_count": 170,
     "metadata": {},
     "output_type": "execute_result"
    }
   ],
   "source": [
    "l =[2,5,4,3,6,7,1,8]\n",
    "for i in range(len(l)):\n",
    "    for j in range(i+1,len(l)):\n",
    "        if l[i]>l[j]:\n",
    "            l[i],l[j] = l[j],l[i]\n",
    "l"
   ]
  },
  {
   "cell_type": "code",
   "execution_count": null,
   "id": "f09377c9",
   "metadata": {},
   "outputs": [],
   "source": []
  },
  {
   "cell_type": "code",
   "execution_count": 173,
   "id": "818de5b4",
   "metadata": {},
   "outputs": [
    {
     "data": {
      "text/plain": [
       "' '"
      ]
     },
     "execution_count": 173,
     "metadata": {},
     "output_type": "execute_result"
    }
   ],
   "source": [
    "def RevChar(s):\n",
    "    b = {}\n",
    "    for i in s:\n",
    "        if i in b:\n",
    "            return i\n",
    "        else:\n",
    "            b[i]=0\n",
    "    return \" \"\n",
    "\n",
    "sen = 'I Work as Developer'\n",
    "RevChar(sen)"
   ]
  },
  {
   "cell_type": "code",
   "execution_count": 174,
   "id": "de3af9a8",
   "metadata": {},
   "outputs": [
    {
     "data": {
      "text/plain": [
       "19"
      ]
     },
     "execution_count": 174,
     "metadata": {},
     "output_type": "execute_result"
    }
   ],
   "source": [
    "sen = \"I Work As Developer\"\n",
    "coun = 0\n",
    "for i in sen:\n",
    "    coun +=1\n",
    "coun"
   ]
  },
  {
   "cell_type": "code",
   "execution_count": 178,
   "id": "795dc447",
   "metadata": {},
   "outputs": [
    {
     "ename": "NameError",
     "evalue": "name 'count' is not defined",
     "output_type": "error",
     "traceback": [
      "\u001b[1;31m---------------------------------------------------------------------------\u001b[0m",
      "\u001b[1;31mNameError\u001b[0m                                 Traceback (most recent call last)",
      "Input \u001b[1;32mIn [178]\u001b[0m, in \u001b[0;36m<cell line: 1>\u001b[1;34m()\u001b[0m\n\u001b[1;32m----> 1\u001b[0m a\u001b[38;5;241m=\u001b[39m\u001b[43mcount\u001b[49m(I)\n\u001b[0;32m      2\u001b[0m a\n",
      "\u001b[1;31mNameError\u001b[0m: name 'count' is not defined"
     ]
    }
   ],
   "source": [
    "\n",
    "a=count(I)\n",
    "a"
   ]
  },
  {
   "cell_type": "code",
   "execution_count": 215,
   "id": "67b25006",
   "metadata": {},
   "outputs": [
    {
     "name": "stdout",
     "output_type": "stream",
     "text": [
      "[31, 23, 8, 7, 6, 5, 4, 2, 1]\n"
     ]
    },
    {
     "data": {
      "text/plain": [
       "[4, 2, 1]"
      ]
     },
     "execution_count": 215,
     "metadata": {},
     "output_type": "execute_result"
    }
   ],
   "source": [
    "l = [5,4,6,8,6,8,31,31,1,2,23,1,4,7]\n",
    "l= list(set(l))\n",
    "l.sort(reverse=True)\n",
    "print(l)\n",
    "a = l[6:]\n",
    "a"
   ]
  },
  {
   "cell_type": "code",
   "execution_count": 220,
   "id": "ec038980",
   "metadata": {},
   "outputs": [
    {
     "name": "stdout",
     "output_type": "stream",
     "text": [
      "[1, 2, 4, 5, 6, 7, 8, 23, 31]\n"
     ]
    }
   ],
   "source": [
    "l = [5,4,6,8,6,8,31,31,1,2,23,1,4,7]\n",
    "l1 = []\n",
    "l1 = list(set(l))\n",
    "print(l1)"
   ]
  },
  {
   "cell_type": "code",
   "execution_count": 4,
   "id": "0a69551f",
   "metadata": {},
   "outputs": [
    {
     "name": "stdout",
     "output_type": "stream",
     "text": [
      "[5, 4, 6, 8, 6, 8, 31, 31, 1, 2, 23, 1, 4, 7]\n",
      "[3, 4, 8, 11, 17, -9]\n"
     ]
    },
    {
     "data": {
      "text/plain": [
       "[4, 8, 8, 4]"
      ]
     },
     "execution_count": 4,
     "metadata": {},
     "output_type": "execute_result"
    }
   ],
   "source": [
    "l = [5,4,6,8,6,8,31,31,1,2,23,1,4,7]\n",
    "# l=list(set(l))\n",
    "print(l)\n",
    "l2 = [8,3,4,-9,11,17]\n",
    "l2=list(set(l2))\n",
    "print(l2)\n",
    "l3 = []\n",
    "for i in l:\n",
    "    if i in l2:\n",
    "        l3.append(i)\n",
    "l3"
   ]
  },
  {
   "cell_type": "code",
   "execution_count": 5,
   "id": "3b6bab4c",
   "metadata": {},
   "outputs": [
    {
     "data": {
      "text/plain": [
       "[5, 6, 6, 31, 31, 1, 2, 23, 1, 7]"
      ]
     },
     "execution_count": 5,
     "metadata": {},
     "output_type": "execute_result"
    }
   ],
   "source": [
    "l4 = []\n",
    "for i in l:\n",
    "    if i not in l2:\n",
    "        l4.append(i)\n",
    "l4"
   ]
  },
  {
   "cell_type": "code",
   "execution_count": 12,
   "id": "5077fe7d",
   "metadata": {},
   "outputs": [
    {
     "name": "stdout",
     "output_type": "stream",
     "text": [
      "[7, 1, 23, 2, 1, 31, 31, 6, 6, 5]\n"
     ]
    }
   ],
   "source": [
    "l5 = []\n",
    "for i in l4:\n",
    "    l5.insert(0,i)\n",
    "print(l5)"
   ]
  },
  {
   "cell_type": "code",
   "execution_count": 8,
   "id": "836307c5",
   "metadata": {},
   "outputs": [
    {
     "name": "stdout",
     "output_type": "stream",
     "text": [
      "31\n"
     ]
    }
   ],
   "source": [
    "num = l5[0]\n",
    "for i in l5:\n",
    "    if i>num:\n",
    "        num = i\n",
    "print(num)\n",
    "        "
   ]
  },
  {
   "cell_type": "code",
   "execution_count": 13,
   "id": "80610cd8",
   "metadata": {},
   "outputs": [
    {
     "name": "stdout",
     "output_type": "stream",
     "text": [
      "[31, 31, 23, 7, 6, 6, 5, 2, 1, 1]\n"
     ]
    }
   ],
   "source": [
    "for i in range(len(l5)):\n",
    "    for j in range(i+1,len(l5)):\n",
    "        if l5[i]<l5[j]:\n",
    "            l5[i],l5[j]=l5[j],l5[i]\n",
    "print(l5)"
   ]
  },
  {
   "cell_type": "code",
   "execution_count": 16,
   "id": "5f60d67d",
   "metadata": {},
   "outputs": [
    {
     "name": "stdout",
     "output_type": "stream",
     "text": [
      "Enter the number you to check15\n",
      "Not Avaiable\n"
     ]
    }
   ],
   "source": [
    "ch_num =int(input(\"Enter the number you to check\"))\n",
    "if ch_num in l5:\n",
    "    print(\"aviable\")\n",
    "else:\n",
    "    print(\"Not Avaiable\")"
   ]
  },
  {
   "cell_type": "code",
   "execution_count": 23,
   "id": "a9c56c63",
   "metadata": {},
   "outputs": [
    {
     "data": {
      "text/plain": [
       "[5, 8, 14, 8, 18]"
      ]
     },
     "execution_count": 23,
     "metadata": {},
     "output_type": "execute_result"
    }
   ],
   "source": [
    "from operator import add\n",
    "l7 = [1, 3, 4, 6, 8]\n",
    "l8 = [4, 5, 10, 2, 10]\n",
    "res = []\n",
    "for i in range(len(l7)):\n",
    "    x = l7[i]+l8[i]\n",
    "    res.append(x)\n",
    "res"
   ]
  },
  {
   "cell_type": "code",
   "execution_count": 24,
   "id": "e15ea028",
   "metadata": {},
   "outputs": [
    {
     "name": "stdout",
     "output_type": "stream",
     "text": [
      "[1, 3, 4, 6, 8, 4, 5, 10, 2, 10]\n"
     ]
    }
   ],
   "source": [
    "print(l7+l8)"
   ]
  },
  {
   "cell_type": "code",
   "execution_count": 29,
   "id": "05e57f80",
   "metadata": {},
   "outputs": [
    {
     "data": {
      "text/plain": [
       "[1, 3, 6, 8, 5, 10, 2, 10]"
      ]
     },
     "execution_count": 29,
     "metadata": {},
     "output_type": "execute_result"
    }
   ],
   "source": [
    "res =[ ]\n",
    "for i in l7:\n",
    "    if i not in  l8:\n",
    "        res.append(i)\n",
    "for i in l8:\n",
    "    if i not in l7:\n",
    "        res.append(i)\n",
    "res"
   ]
  },
  {
   "cell_type": "code",
   "execution_count": 48,
   "id": "a8c9950d",
   "metadata": {},
   "outputs": [
    {
     "name": "stdout",
     "output_type": "stream",
     "text": [
      "5.0\n",
      "hi\n"
     ]
    }
   ],
   "source": [
    "try:\n",
    "    a = 10/2\n",
    "    print(a)\n",
    "except ZeroDivisionError as msg:\n",
    "    print(\"Error is Handle: \",msg)\n",
    "finally:\n",
    "    print(\"hi\")"
   ]
  },
  {
   "cell_type": "code",
   "execution_count": 54,
   "id": "7ee5b1c6",
   "metadata": {},
   "outputs": [
    {
     "name": "stdout",
     "output_type": "stream",
     "text": [
      "101\n"
     ]
    }
   ],
   "source": [
    "l =[101,1,5,6,8,96,40,95]\n",
    "n = l[0]\n",
    "for i in l:\n",
    "    if i>n:\n",
    "        n=i\n",
    "print(n)"
   ]
  },
  {
   "cell_type": "code",
   "execution_count": 52,
   "id": "9505482d",
   "metadata": {},
   "outputs": [
    {
     "data": {
      "text/plain": [
       "101"
      ]
     },
     "execution_count": 52,
     "metadata": {},
     "output_type": "execute_result"
    }
   ],
   "source": [
    "l.sort()\n",
    "l[-1]"
   ]
  },
  {
   "cell_type": "code",
   "execution_count": 55,
   "id": "556f3e3a",
   "metadata": {},
   "outputs": [
    {
     "name": "stdout",
     "output_type": "stream",
     "text": [
      "96\n"
     ]
    }
   ],
   "source": [
    "l =list(set(l))\n",
    "l.sort()\n",
    "print(l[-2])"
   ]
  },
  {
   "cell_type": "code",
   "execution_count": 56,
   "id": "b2400af5",
   "metadata": {},
   "outputs": [
    {
     "name": "stdout",
     "output_type": "stream",
     "text": [
      "Language Python in work I \n"
     ]
    }
   ],
   "source": [
    "a= \"I work in Python Language\"\n",
    "ans = \"\"\n",
    "temp =\"\"\n",
    "for i in a:\n",
    "    if i != \" \":\n",
    "        temp += i\n",
    "    else:\n",
    "        ans=temp+ \" \" + ans\n",
    "        temp= \"\"\n",
    "ans=temp+ \" \" + ans\n",
    "print(ans)"
   ]
  },
  {
   "cell_type": "raw",
   "id": "68a9763c",
   "metadata": {},
   "source": []
  }
 ],
 "metadata": {
  "kernelspec": {
   "display_name": "Python 3 (ipykernel)",
   "language": "python",
   "name": "python3"
  },
  "language_info": {
   "codemirror_mode": {
    "name": "ipython",
    "version": 3
   },
   "file_extension": ".py",
   "mimetype": "text/x-python",
   "name": "python",
   "nbconvert_exporter": "python",
   "pygments_lexer": "ipython3",
   "version": "3.9.4"
  }
 },
 "nbformat": 4,
 "nbformat_minor": 5
}
