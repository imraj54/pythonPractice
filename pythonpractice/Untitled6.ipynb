{
 "cells": [
  {
   "cell_type": "markdown",
   "id": "b30efd2e",
   "metadata": {},
   "source": [
    "# DECORATOR TIME Calculation to execute\n"
   ]
  },
  {
   "cell_type": "code",
   "execution_count": 28,
   "id": "a745f34a",
   "metadata": {},
   "outputs": [
    {
     "name": "stdout",
     "output_type": "stream",
     "text": [
      "Start time of func :  1656651988.4542837\n",
      "End time of func :  1656651989.436043\n",
      "long_time executed in 0.981759 s\n"
     ]
    }
   ],
   "source": [
    "from time import time\n",
    "def timer_func(func):\n",
    "    def Inner_time(*args,**kwargs):\n",
    "        start_time= time()\n",
    "        print(\"Start time of func : \",start_time)\n",
    "        value = func(*args,**kwargs)\n",
    "        end_time= time()\n",
    "        print(\"End time of func : \",end_time)\n",
    "        print(f'{func.__name__} executed in {(end_time-start_time):f} s')\n",
    "        return value\n",
    "    return Inner_time\n",
    "\n",
    "@timer_func\n",
    "def long_time(num):\n",
    "    for i in range(num):\n",
    "        for j in range(1000):\n",
    "            i*j\n",
    "        \n",
    "long_time(10000)       \n",
    "        "
   ]
  },
  {
   "cell_type": "code",
   "execution_count": 45,
   "id": "00abf6e7",
   "metadata": {},
   "outputs": [
    {
     "name": "stdout",
     "output_type": "stream",
     "text": [
      "start Time 1656674462.2133672\n",
      "End Time :  1656674462.2223434\n",
      "'long_time' is executed in 0.008976 s\n"
     ]
    }
   ],
   "source": [
    "from time import time\n",
    "def Timer_func(func):\n",
    "    def Inner_func(*args,**kwargs):\n",
    "        time_start = time()\n",
    "        print(\"start Time\",time_start)\n",
    "        value = func(*args,**kwargs)\n",
    "        \n",
    "        time_end = time()\n",
    "        print(\"End Time : \",time_end)\n",
    "        print(f\"{func.__name__!r} is executed in {(time_end-time_start):4f} s\")\n",
    "        return value\n",
    "    return Inner_func\n",
    "@Timer_func\n",
    "def long_time(num):\n",
    "    for i in range(num):\n",
    "        for j in range(1000):\n",
    "            i*j\n",
    "long_time(50)"
   ]
  },
  {
   "cell_type": "code",
   "execution_count": null,
   "id": "c3484b79",
   "metadata": {},
   "outputs": [],
   "source": []
  },
  {
   "cell_type": "code",
   "execution_count": 53,
   "id": "7aa41b2b",
   "metadata": {},
   "outputs": [
    {
     "name": "stdout",
     "output_type": "stream",
     "text": [
      "a4f1d1f5a2"
     ]
    }
   ],
   "source": [
    "st = \"aaaafdfffffaa\"\n",
    "n = len(st)\n",
    "i = 0\n",
    "while i <= n-1:\n",
    "    count=1\n",
    "    while i<n-1 and st[i]==st[i+1]:\n",
    "        count+=1\n",
    "        i+=1\n",
    "    i+=1\n",
    "    print(st[i-1]+str(count),end=\"\")\n",
    "    "
   ]
  },
  {
   "cell_type": "code",
   "execution_count": null,
   "id": "b7c1b895",
   "metadata": {},
   "outputs": [],
   "source": []
  },
  {
   "cell_type": "code",
   "execution_count": 62,
   "id": "7ecc0ec1",
   "metadata": {},
   "outputs": [
    {
     "name": "stdout",
     "output_type": "stream",
     "text": [
      "enter the nUMBER1\n",
      "the provide Value is Small , try again\n",
      "enter the nUMBER12\n",
      "the provide Value is large , try again\n",
      "enter the nUMBER11\n",
      "the provide Value is large , try again\n",
      "enter the nUMBER8\n",
      "the provide Value is Small , try again\n",
      "enter the nUMBER10\n",
      "Congrualtion Done Successfully\n"
     ]
    }
   ],
   "source": [
    "class Error(Exception):\n",
    "    pass\n",
    "class ValuetoSmallError(Error):\n",
    "    pass\n",
    "class LargeValueError(Error):\n",
    "    pass\n",
    "\n",
    "num = 10 \n",
    "while True:\n",
    "    try:\n",
    "        i = int(input(\"enter the nUMBER\"))\n",
    "        if i < num:\n",
    "            raise ValuetoSmallError\n",
    "        elif i > num :\n",
    "            raise LargeValueError\n",
    "        break\n",
    "    except ValuetoSmallError:\n",
    "        print(\"the provide Value is Small , try again\")\n",
    "    except LargeValueError:\n",
    "        print(\"the provide Value is large , try again\")\n",
    "print(\"Congrualtion Done Successfully\")"
   ]
  },
  {
   "cell_type": "code",
   "execution_count": 87,
   "id": "969e5592",
   "metadata": {},
   "outputs": [
    {
     "name": "stdout",
     "output_type": "stream",
     "text": [
      "Enter the Salary : 5566556\n"
     ]
    },
    {
     "ename": "DID",
     "evalue": "5566556  ->salary should between in 5000 to 10000  ",
     "output_type": "error",
     "traceback": [
      "\u001b[1;31m---------------------------------------------------------------------------\u001b[0m",
      "\u001b[1;31mDID\u001b[0m                                       Traceback (most recent call last)",
      "Input \u001b[1;32mIn [87]\u001b[0m, in \u001b[0;36m<cell line: 11>\u001b[1;34m()\u001b[0m\n\u001b[0;32m     10\u001b[0m salary  \u001b[38;5;241m=\u001b[39m\u001b[38;5;28mint\u001b[39m(\u001b[38;5;28minput\u001b[39m(\u001b[38;5;124m\"\u001b[39m\u001b[38;5;124mEnter the Salary : \u001b[39m\u001b[38;5;124m\"\u001b[39m ))\n\u001b[0;32m     11\u001b[0m \u001b[38;5;28;01mif\u001b[39;00m \u001b[38;5;129;01mnot\u001b[39;00m \u001b[38;5;241m5000\u001b[39m\u001b[38;5;241m<\u001b[39msalary\u001b[38;5;241m<\u001b[39m\u001b[38;5;241m10000\u001b[39m:\n\u001b[1;32m---> 12\u001b[0m     \u001b[38;5;28;01mraise\u001b[39;00m  DID(salary)\n",
      "\u001b[1;31mDID\u001b[0m: 5566556  ->salary should between in 5000 to 10000  "
     ]
    }
   ],
   "source": [
    "class DID(Exception):\n",
    "    \n",
    "    def __init__(self,salary,message =\"salary should between in 5000 to 10000 \"):\n",
    "        self.salary =salary\n",
    "        self.message = message\n",
    "        super().__init__(self.message)\n",
    "        \n",
    "    def __str__(self):\n",
    "        return f\"{self.salary}  ->{self.message} \"  \n",
    "salary  =int(input(\"Enter the Salary : \" ))\n",
    "if not 5000<salary<10000:\n",
    "    raise  DID(salary)"
   ]
  },
  {
   "cell_type": "code",
   "execution_count": 96,
   "id": "e2b4789a",
   "metadata": {},
   "outputs": [
    {
     "name": "stdout",
     "output_type": "stream",
     "text": [
      "Enter the Number :15\n",
      "The Value is More, try again \n",
      "Enter the Number :10\n",
      "Congratulations Done Successfully\n"
     ]
    }
   ],
   "source": [
    "class Error(Exception):\n",
    "    pass\n",
    "class ValueLessError(Error):\n",
    "    pass \n",
    "class ValueLargError(Error):\n",
    "    pass \n",
    "num = 10\n",
    "while True:\n",
    "    try:\n",
    "        i  = int(input('Enter the Number :'))\n",
    "        if i < num :\n",
    "            raise ValueLessError\n",
    "        elif i> num:\n",
    "            raise ValueLargError\n",
    "        break\n",
    "    except ValueLessError:\n",
    "        print('The Value is Less ,try again')\n",
    "    except ValueLargError:\n",
    "        print('The Value is More, try again ')\n",
    "print(\"Congratulations Done Successfully\")\n",
    "    "
   ]
  },
  {
   "cell_type": "code",
   "execution_count": null,
   "id": "26507964",
   "metadata": {},
   "outputs": [],
   "source": []
  },
  {
   "cell_type": "code",
   "execution_count": 98,
   "id": "cc7a4c01",
   "metadata": {},
   "outputs": [
    {
     "name": "stdout",
     "output_type": "stream",
     "text": [
      "a4b4c4d3f3r1"
     ]
    }
   ],
   "source": [
    "sting = \"aaaabbbbccccdddfffr\"\n",
    "n = len(sting)\n",
    "i = 0 \n",
    "while i <= n-1:\n",
    "    count = 1\n",
    "    while i< n- 1 and sting[i] == sting[i + 1]:\n",
    "        count +=1\n",
    "        i+=1\n",
    "    i+=1\n",
    "    print(sting[i-1]+str(count),end =\"\")"
   ]
  },
  {
   "cell_type": "code",
   "execution_count": 13,
   "id": "28ed7d1b",
   "metadata": {},
   "outputs": [
    {
     "name": "stdout",
     "output_type": "stream",
     "text": [
      "nitin\n",
      "True\n"
     ]
    }
   ],
   "source": [
    "stg = \"Nitin\"\n",
    "s = stg.lower()\n",
    "w= \"\"\n",
    "for i in s:\n",
    "    w =i+w\n",
    "print(w)\n",
    "if s == w:\n",
    "    print(True)\n",
    "else: \n",
    "    print(False)"
   ]
  },
  {
   "cell_type": "code",
   "execution_count": 25,
   "id": "6b9581ae",
   "metadata": {},
   "outputs": [
    {
     "name": "stdout",
     "output_type": "stream",
     "text": [
      "Enter the Number11\n",
      "True\n"
     ]
    }
   ],
   "source": [
    "num = int(input(\"Enter the Number\"))\n",
    "rev = 0\n",
    "temp = num\n",
    "while num!= 0:\n",
    "    digit = num%10\n",
    "    rev = rev*10+digit\n",
    "    num = num//10\n",
    "rev\n",
    "if rev == temp :\n",
    "    print(True)\n",
    "else :\n",
    "    print(False)\n"
   ]
  },
  {
   "cell_type": "code",
   "execution_count": 29,
   "id": "9efaef22",
   "metadata": {},
   "outputs": [
    {
     "name": "stdout",
     "output_type": "stream",
     "text": [
      "False\n"
     ]
    }
   ],
   "source": [
    "var = \"(){}[]\"\n",
    "var1 = \"[{()}]\"\n",
    "var2 = \"[(])\"\n",
    "\n"
   ]
  },
  {
   "cell_type": "code",
   "execution_count": null,
   "id": "142b8088",
   "metadata": {},
   "outputs": [],
   "source": []
  }
 ],
 "metadata": {
  "kernelspec": {
   "display_name": "Python 3 (ipykernel)",
   "language": "python",
   "name": "python3"
  },
  "language_info": {
   "codemirror_mode": {
    "name": "ipython",
    "version": 3
   },
   "file_extension": ".py",
   "mimetype": "text/x-python",
   "name": "python",
   "nbconvert_exporter": "python",
   "pygments_lexer": "ipython3",
   "version": "3.9.4"
  }
 },
 "nbformat": 4,
 "nbformat_minor": 5
}
