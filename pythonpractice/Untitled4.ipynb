{
 "cells": [
  {
   "cell_type": "code",
   "execution_count": 24,
   "id": "17339a20",
   "metadata": {},
   "outputs": [
    {
     "name": "stdout",
     "output_type": "stream",
     "text": [
      "{'g': 19, 'n': 21, 'l': 17, 'q': 39, 'd': 55}\n"
     ]
    }
   ],
   "source": [
    "new_tup = [('g',19), ('n', 21), ('l', 17), ('q', 39), ('d', 55)]\n",
    "\n",
    "new_res = dict(new_tup)\n",
    "print(new_res)\n"
   ]
  },
  {
   "cell_type": "code",
   "execution_count": 2,
   "id": "99381790",
   "metadata": {},
   "outputs": [
    {
     "name": "stdout",
     "output_type": "stream",
     "text": [
      "[{'name': 'John', 'age': 20}]\n"
     ]
    }
   ],
   "source": [
    "a_dictionary = {\"name\" : \"John\", \"age\" : 20}\n",
    "a_list = []\n",
    "\n",
    "dictionary_copy = a_dictionary.copy()\n",
    "a_list.append(dictionary_copy)\n",
    "\n",
    "print(a_list)"
   ]
  },
  {
   "cell_type": "code",
   "execution_count": 8,
   "id": "1b79e625",
   "metadata": {},
   "outputs": [
    {
     "name": "stdout",
     "output_type": "stream",
     "text": [
      "{1: 'one', 2: 'two'}\n",
      "{1: 'one', 2: 'two', 3: 'three', 4: 'four'}\n"
     ]
    }
   ],
   "source": [
    "dict = {1 : 'one', 2 : 'two'}\n",
    "# Print out the dict\n",
    "print(dict)\n",
    "# Add something to it\n",
    "dict[3] = 'three'\n",
    "# Print it out to see it has changed\n",
    "dict [4] = \"four\"\n",
    "print(dict)"
   ]
  },
  {
   "cell_type": "code",
   "execution_count": 15,
   "id": "d55268fa",
   "metadata": {},
   "outputs": [
    {
     "data": {
      "text/plain": [
       "{5: 'number', 8: 'number'}"
      ]
     },
     "execution_count": 15,
     "metadata": {},
     "output_type": "execute_result"
    }
   ],
   "source": [
    "d = {5:\"number\"}\n",
    "d [8]= \"number\"\n",
    "d"
   ]
  },
  {
   "cell_type": "code",
   "execution_count": 16,
   "id": "89f0e0ab",
   "metadata": {},
   "outputs": [
    {
     "data": {
      "text/plain": [
       "{5: 'number', 8: 'number', 1: 'one', 2: 'two', 3: 'three', 4: 'four'}"
      ]
     },
     "execution_count": 16,
     "metadata": {},
     "output_type": "execute_result"
    }
   ],
   "source": [
    "d.update(dict)\n",
    "d"
   ]
  },
  {
   "cell_type": "code",
   "execution_count": 25,
   "id": "a618683a",
   "metadata": {},
   "outputs": [
    {
     "name": "stdout",
     "output_type": "stream",
     "text": [
      "tuple key elements of dictionary are: [19, 25, 65, 47, 91, 57, 199]\n"
     ]
    }
   ],
   "source": [
    "to_dictionary = {(19, 25) : 'rose', (65, 47, 91) : 'lily', (57, 199) : 'Jasmine'}\n",
    "\n",
    "new_output = [element for new_key in to_dictionary for element in new_key]\n",
    "print(\"tuple key elements of dictionary are:\",new_output)"
   ]
  },
  {
   "cell_type": "code",
   "execution_count": 4,
   "id": "8128a7a0",
   "metadata": {},
   "outputs": [
    {
     "name": "stdout",
     "output_type": "stream",
     "text": [
      "1\n",
      "2\n",
      "3\n",
      "5\n",
      "8\n",
      "13\n",
      "21\n",
      "34\n",
      "55\n",
      "89\n"
     ]
    }
   ],
   "source": [
    "a = 0\n",
    "b = 1\n",
    "n = 10\n",
    "\n",
    "for i in range(n):\n",
    "    c= a+b\n",
    "    a=b\n",
    "    b=c\n",
    "    print(c)\n",
    "    "
   ]
  },
  {
   "cell_type": "code",
   "execution_count": 26,
   "id": "210bf8f7",
   "metadata": {},
   "outputs": [
    {
     "name": "stdout",
     "output_type": "stream",
     "text": [
      "[1, 2, 4, 5, 6, 8, 12, 21, 32, 36, 58]\n",
      "list second highest element : 36\n"
     ]
    }
   ],
   "source": [
    "l = [4,2,36,4,58,6,8,6,2,4,32,1,12,1,2,21,5]\n",
    "a = list(set(l))\n",
    "# for i in a:\n",
    "#     for j in i:\n",
    "#         if i >j :\n",
    "#             a[i],a[j]==a[j],a[i]\n",
    "a  = sorted(a)\n",
    "print(a)\n",
    "print(\"list second highest element :\",a[-2] )\n"
   ]
  },
  {
   "cell_type": "code",
   "execution_count": 38,
   "id": "0de5256e",
   "metadata": {},
   "outputs": [
    {
     "name": "stdout",
     "output_type": "stream",
     "text": [
      "['a', 'a', 'c', 'd', 'f', 'g', 'h', 'k', 'r', 's', 'x']\n"
     ]
    }
   ],
   "source": [
    "\n",
    "bc = ['a','f','d','g',\"k\",'h','x','r','a','s','c']\n",
    "a = sorted(bc)\n",
    "print(a)"
   ]
  },
  {
   "cell_type": "code",
   "execution_count": 44,
   "id": "fbafb466",
   "metadata": {},
   "outputs": [
    {
     "name": "stdout",
     "output_type": "stream",
     "text": [
      "65\n",
      "1\n"
     ]
    }
   ],
   "source": [
    "l1 = [1,4,56,6,7,8,4,3,44,55,65]\n",
    "\n",
    "print(max(l1))\n",
    "print(min(l1))"
   ]
  },
  {
   "cell_type": "code",
   "execution_count": 59,
   "id": "9212f995",
   "metadata": {},
   "outputs": [
    {
     "name": "stdout",
     "output_type": "stream",
     "text": [
      "[2, 1, 4, 3]\n",
      "['abc', 'bcd', 'pcd', 'ifd']\n",
      "[(2, 'abc'), (1, 'bcd'), (4, 'pcd'), (3, 'ifd')]\n"
     ]
    },
    {
     "data": {
      "text/plain": [
       "{2: 'abc', 1: 'bcd', 4: 'pcd', 3: 'ifd', 5: 'gvc'}"
      ]
     },
     "execution_count": 59,
     "metadata": {},
     "output_type": "execute_result"
    }
   ],
   "source": [
    "d = {2:\"abc\",1:\"bcd\",4:\"pcd\",3:\"ifd\"}\n",
    "a = list(d.keys())\n",
    "b = list(d.values())\n",
    "c = list(d.items())\n",
    "\n",
    "print(a)\n",
    "print(b)\n",
    "print(c)\n",
    "d[5] = 'bsj'\n",
    "d[5] = 'gvc'\n",
    "d\n",
    "\n"
   ]
  },
  {
   "cell_type": "code",
   "execution_count": 83,
   "id": "bda26e49",
   "metadata": {},
   "outputs": [
    {
     "name": "stdout",
     "output_type": "stream",
     "text": [
      "a4b4c3d4"
     ]
    }
   ],
   "source": [
    "a = \"aaaabbbbcccdddd\"\n",
    "b = {}\n",
    "for s in a:\n",
    "    if s in b.keys():\n",
    "        b[s]=b[s]+1\n",
    "    else:\n",
    "        b[s]=1\n",
    "for s,r in b.items():\n",
    "    print(\"{}{}\".format(s,r),end=\"\")"
   ]
  },
  {
   "cell_type": "code",
   "execution_count": 102,
   "id": "7042fb67",
   "metadata": {},
   "outputs": [],
   "source": [
    "del l"
   ]
  },
  {
   "cell_type": "code",
   "execution_count": 119,
   "id": "250975dd",
   "metadata": {},
   "outputs": [
    {
     "name": "stdout",
     "output_type": "stream",
     "text": [
      "[1, 1, 2, 2, 2, 4, 4, 4, 4, 4, 5, 6, 6, 6, 7, 7, 23, 44, 74, 233]\n"
     ]
    }
   ],
   "source": [
    "l = [4,2,1,233,5,6,74,7,6,7,6,4,4,4,44,4,1,2,2,23]\n",
    "# l = list(set(l))\n",
    "for i in range(len(l)):\n",
    "    for j in range(i+1 ,len(l)):\n",
    "        if l[i] > l[j]:\n",
    "            l[i], l[j] = l[j],l[i]\n",
    "print(l)"
   ]
  },
  {
   "cell_type": "code",
   "execution_count": 120,
   "id": "3f175f9b",
   "metadata": {},
   "outputs": [
    {
     "name": "stdout",
     "output_type": "stream",
     "text": [
      "4\n"
     ]
    }
   ],
   "source": [
    "print(max(set(l),key = l.count))"
   ]
  },
  {
   "cell_type": "code",
   "execution_count": 126,
   "id": "0daac285",
   "metadata": {},
   "outputs": [
    {
     "name": "stdout",
     "output_type": "stream",
     "text": [
      "4\n"
     ]
    }
   ],
   "source": [
    "import statistics\n",
    "from statistics import mode\n",
    "\n",
    "print(mode(l))"
   ]
  },
  {
   "cell_type": "code",
   "execution_count": 41,
   "id": "6dd4e869",
   "metadata": {},
   "outputs": [
    {
     "name": "stdout",
     "output_type": "stream",
     "text": [
      "4\n"
     ]
    }
   ],
   "source": [
    "l = [4,2,1,233,5,6,74,7,6,7,6,4,4,4,44,4,1,2,2,23]\n",
    "counter = 0\n",
    "index = l[0]\n",
    "for i in l:\n",
    "    freq = l.count(i)\n",
    "    if freq > counter:\n",
    "        counter = freq\n",
    "        num = i\n",
    "print(num)\n"
   ]
  },
  {
   "cell_type": "markdown",
   "id": "0b7e7b5b",
   "metadata": {},
   "source": [
    "# Reverse program for loop"
   ]
  },
  {
   "cell_type": "code",
   "execution_count": null,
   "id": "604c138c",
   "metadata": {},
   "outputs": [],
   "source": [
    "\n",
    "x = \"My name is Imran\"\n",
    "x = x.split() \n",
    "w = \" \"\n",
    "for i in x:\n",
    "     w = i + w\n",
    "# for i in range(1,len(x)+1):\n",
    "#      w += x[-i] \n",
    "# for i in x:\n",
    "#        print(i[::-1],end=\" \")\n",
    "print(''.join(w))"
   ]
  },
  {
   "cell_type": "markdown",
   "id": "37ade9bf",
   "metadata": {},
   "source": [
    "# palindrome of string and Numbers\n",
    "\n"
   ]
  },
  {
   "cell_type": "code",
   "execution_count": 76,
   "id": "2ba16387",
   "metadata": {},
   "outputs": [
    {
     "data": {
      "text/plain": [
       "True"
      ]
     },
     "execution_count": 76,
     "metadata": {},
     "output_type": "execute_result"
    }
   ],
   "source": [
    "n = \"malayalAM\"\n",
    "def Pal(n):\n",
    "    n =n.lower()\n",
    "    w = \"\"\n",
    "    for i in n:\n",
    "        w = i+w\n",
    "\n",
    "    if w == n:\n",
    "    \n",
    "        return True\n",
    "    else:\n",
    "        return False\n",
    "Pal(n)\n"
   ]
  },
  {
   "cell_type": "code",
   "execution_count": 87,
   "id": "73cf4bfd",
   "metadata": {},
   "outputs": [
    {
     "name": "stdout",
     "output_type": "stream",
     "text": [
      "enter the string:Nitin\n"
     ]
    },
    {
     "data": {
      "text/plain": [
       "False"
      ]
     },
     "execution_count": 87,
     "metadata": {},
     "output_type": "execute_result"
    }
   ],
   "source": [
    "n = input(\"enter the string:\")\n",
    "def Pal(n):\n",
    "#     n =n.lower()\n",
    "    if n==n[::-1]:\n",
    "        return True\n",
    "    else:\n",
    "        return False\n",
    "Pal(n)"
   ]
  },
  {
   "cell_type": "code",
   "execution_count": 75,
   "id": "8d54fc9c",
   "metadata": {},
   "outputs": [
    {
     "name": "stdout",
     "output_type": "stream",
     "text": [
      "Enter the no:12121\n",
      "is palindrome\n"
     ]
    }
   ],
   "source": [
    "n =int(input(\"Enter the no:\"))\n",
    "temp = n\n",
    "r = 0\n",
    "while n!=0:\n",
    "    di = n%10\n",
    "    r = r*10+di\n",
    "    n//=10\n",
    "if temp==r:\n",
    "    print(\"is palindrome\")\n",
    "else:\n",
    "    print(\"not palindrome\")"
   ]
  },
  {
   "cell_type": "markdown",
   "id": "54f6dff5",
   "metadata": {},
   "source": [
    "# Check Sub String or not\n"
   ]
  },
  {
   "cell_type": "code",
   "execution_count": 102,
   "id": "9710c76a",
   "metadata": {},
   "outputs": [
    {
     "data": {
      "text/plain": [
       "False"
      ]
     },
     "execution_count": 102,
     "metadata": {},
     "output_type": "execute_result"
    }
   ],
   "source": [
    "\n",
    "# n = n.casefold()\n",
    "\n",
    "# s = s.casefold()\n",
    "def Sub(n,s):\n",
    "    \n",
    "    if s in n:\n",
    "        return True\n",
    "    else:\n",
    "        return False\n",
    "n = \"Rahul\"\n",
    "s = 'anuj'\n",
    "Sub(n,s)"
   ]
  },
  {
   "cell_type": "code",
   "execution_count": 128,
   "id": "4108e571",
   "metadata": {},
   "outputs": [
    {
     "name": "stdout",
     "output_type": "stream",
     "text": [
      "I.K.Sheikh\n"
     ]
    }
   ],
   "source": [
    "s = \"Imran kasam Sheikh\"\n",
    "l = s.split()\n",
    "new = \"\"\n",
    "for i in range(len(l)-1):\n",
    "    s = l[i]\n",
    "    new += (s[0].upper()+\".\")\n",
    "  \n",
    "new += l[-1].title() \n",
    "print(new)   \n"
   ]
  },
  {
   "cell_type": "code",
   "execution_count": 2,
   "id": "625e7972",
   "metadata": {},
   "outputs": [
    {
     "name": "stdout",
     "output_type": "stream",
     "text": [
      "sentence\n"
     ]
    }
   ],
   "source": [
    "sentence = 'This is a sentence'\n",
    "split_value = []\n",
    "tmp = ''\n",
    "for c in sentence:\n",
    "    if c == ' ':\n",
    "        split_value.append(tmp)\n",
    "        tmp = ''\n",
    "    else:\n",
    "        tmp += c\n",
    "if tmp:\n",
    "    split_value.append(tmp)\n"
   ]
  },
  {
   "cell_type": "code",
   "execution_count": 23,
   "id": "0c117c88",
   "metadata": {},
   "outputs": [
    {
     "ename": "SyntaxError",
     "evalue": "invalid syntax (2250093324.py, line 6)",
     "output_type": "error",
     "traceback": [
      "\u001b[1;36m  Input \u001b[1;32mIn [23]\u001b[1;36m\u001b[0m\n\u001b[1;33m    b[i] =\u001b[0m\n\u001b[1;37m           ^\u001b[0m\n\u001b[1;31mSyntaxError\u001b[0m\u001b[1;31m:\u001b[0m invalid syntax\n"
     ]
    }
   ],
   "source": [
    "a =\"I work in Python Progaminng Language\"\n",
    "b = []\n",
    "w ='' \n",
    "\n",
    "for i in a:\n",
    "    b[i] = \n",
    "print(''.join(w))"
   ]
  },
  {
   "cell_type": "code",
   "execution_count": 78,
   "id": "2e2e43ad",
   "metadata": {},
   "outputs": [
    {
     "name": "stdout",
     "output_type": "stream",
     "text": [
      "try to string a is This \n"
     ]
    }
   ],
   "source": [
    "sentence = 'This is a string to try'\n",
    "answer = ''\n",
    "temp = ''\n",
    "for i in sentence:\n",
    "    if i != ' ':\n",
    "        temp += i\n",
    "    else:\n",
    "        answer = temp + ' ' + answer\n",
    "        temp =''\n",
    "answer = temp + ' ' +answer  \n",
    "print(answer)"
   ]
  },
  {
   "cell_type": "code",
   "execution_count": 115,
   "id": "7ee0622b",
   "metadata": {},
   "outputs": [
    {
     "name": "stdout",
     "output_type": "stream",
     "text": [
      "r\n"
     ]
    }
   ],
   "source": [
    "\n",
    "\n",
    "def First(str):\n",
    "    b = {}\n",
    "    for ch in str:\n",
    "        if ch in b:\n",
    "            return ch\n",
    "        else:\n",
    "            b[ch]=0\n",
    "    \n",
    "    return \"None\"\n",
    "    \n",
    "\n",
    "print(First(\"I worrk in Python Programming Language\"))      "
   ]
  },
  {
   "cell_type": "code",
   "execution_count": null,
   "id": "ebb16fb5",
   "metadata": {},
   "outputs": [],
   "source": []
  }
 ],
 "metadata": {
  "kernelspec": {
   "display_name": "Python 3 (ipykernel)",
   "language": "python",
   "name": "python3"
  },
  "language_info": {
   "codemirror_mode": {
    "name": "ipython",
    "version": 3
   },
   "file_extension": ".py",
   "mimetype": "text/x-python",
   "name": "python",
   "nbconvert_exporter": "python",
   "pygments_lexer": "ipython3",
   "version": "3.9.4"
  }
 },
 "nbformat": 4,
 "nbformat_minor": 5
}
