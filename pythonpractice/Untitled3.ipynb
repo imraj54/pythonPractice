{
 "cells": [
  {
   "cell_type": "code",
   "execution_count": 1,
   "id": "16f3b835",
   "metadata": {},
   "outputs": [
    {
     "ename": "NameError",
     "evalue": "name 'cmp' is not defined",
     "output_type": "error",
     "traceback": [
      "\u001b[1;31m---------------------------------------------------------------------------\u001b[0m",
      "\u001b[1;31mNameError\u001b[0m                                 Traceback (most recent call last)",
      "Input \u001b[1;32mIn [1]\u001b[0m, in \u001b[0;36m<cell line: 1>\u001b[1;34m()\u001b[0m\n\u001b[1;32m----> 1\u001b[0m \u001b[43mcmp\u001b[49m(\u001b[38;5;241m3\u001b[39m,\u001b[38;5;241m1\u001b[39m)\n",
      "\u001b[1;31mNameError\u001b[0m: name 'cmp' is not defined"
     ]
    }
   ],
   "source": [
    "cmp(3,1)"
   ]
  },
  {
   "cell_type": "code",
   "execution_count": 4,
   "id": "3005ba47",
   "metadata": {},
   "outputs": [
    {
     "name": "stdout",
     "output_type": "stream",
     "text": [
      "False\n"
     ]
    }
   ],
   "source": [
    "print(0.1+0.2==0.3)"
   ]
  },
  {
   "cell_type": "code",
   "execution_count": 5,
   "id": "1ae500db",
   "metadata": {},
   "outputs": [
    {
     "data": {
      "text/plain": [
       "317"
      ]
     },
     "execution_count": 5,
     "metadata": {},
     "output_type": "execute_result"
    }
   ],
   "source": [
    "x = 2+9*((3*12))-\n",
    "x\n"
   ]
  },
  {
   "cell_type": "code",
   "execution_count": 6,
   "id": "64a37eff",
   "metadata": {},
   "outputs": [
    {
     "data": {
      "text/plain": [
       "648"
      ]
     },
     "execution_count": 6,
     "metadata": {},
     "output_type": "execute_result"
    }
   ],
   "source": [
    "18*36"
   ]
  },
  {
   "cell_type": "code",
   "execution_count": 7,
   "id": "16849c1e",
   "metadata": {},
   "outputs": [
    {
     "data": {
      "text/plain": [
       "-101"
      ]
     },
     "execution_count": 7,
     "metadata": {},
     "output_type": "execute_result"
    }
   ],
   "source": [
    "~100\n"
   ]
  },
  {
   "cell_type": "code",
   "execution_count": 8,
   "id": "a6f93c76",
   "metadata": {},
   "outputs": [
    {
     "data": {
      "text/plain": [
       "1.0"
      ]
     },
     "execution_count": 8,
     "metadata": {},
     "output_type": "execute_result"
    }
   ],
   "source": [
    "4.00/(2.0+2.0)"
   ]
  },
  {
   "cell_type": "code",
   "execution_count": 9,
   "id": "4a17ad66",
   "metadata": {},
   "outputs": [
    {
     "data": {
      "text/plain": [
       "4.0"
      ]
     },
     "execution_count": 9,
     "metadata": {},
     "output_type": "execute_result"
    }
   ],
   "source": [
    "2.0+2.0\n"
   ]
  },
  {
   "cell_type": "code",
   "execution_count": 10,
   "id": "dea6036b",
   "metadata": {},
   "outputs": [
    {
     "data": {
      "text/plain": [
       "1.0"
      ]
     },
     "execution_count": 10,
     "metadata": {},
     "output_type": "execute_result"
    }
   ],
   "source": [
    "4.00/4.0"
   ]
  },
  {
   "cell_type": "code",
   "execution_count": 12,
   "id": "7649b612",
   "metadata": {},
   "outputs": [
    {
     "ename": "NameError",
     "evalue": "name 'i' is not defined",
     "output_type": "error",
     "traceback": [
      "\u001b[1;31m---------------------------------------------------------------------------\u001b[0m",
      "\u001b[1;31mNameError\u001b[0m                                 Traceback (most recent call last)",
      "Input \u001b[1;32mIn [12]\u001b[0m, in \u001b[0;36m<cell line: 2>\u001b[1;34m()\u001b[0m\n\u001b[0;32m      1\u001b[0m x\u001b[38;5;241m=\u001b[39m\u001b[38;5;124m\"\u001b[39m\u001b[38;5;124mabcdef\u001b[39m\u001b[38;5;124m\"\u001b[39m\n\u001b[1;32m----> 2\u001b[0m \u001b[38;5;28;01mwhile\u001b[39;00m \u001b[43mi\u001b[49m \u001b[38;5;129;01min\u001b[39;00m x:\n\u001b[0;32m      3\u001b[0m     \u001b[38;5;28mprint\u001b[39m(i,end\u001b[38;5;241m=\u001b[39m\u001b[38;5;124m\"\u001b[39m\u001b[38;5;124m \u001b[39m\u001b[38;5;124m\"\u001b[39m)\n",
      "\u001b[1;31mNameError\u001b[0m: name 'i' is not defined"
     ]
    }
   ],
   "source": [
    "x=\"abcdef\"\n",
    "while i in x:\n",
    "    print(i,end=\" \")"
   ]
  },
  {
   "cell_type": "code",
   "execution_count": 20,
   "id": "3a01ec27",
   "metadata": {},
   "outputs": [],
   "source": [
    "while i<5:\n",
    "    print(i)\n",
    "    i += 1\n",
    "    if i == 3:\n",
    "        break\n",
    "    else:\n",
    "        print(0)"
   ]
  },
  {
   "cell_type": "code",
   "execution_count": 29,
   "id": "a6c422f4",
   "metadata": {},
   "outputs": [
    {
     "name": "stdout",
     "output_type": "stream",
     "text": [
      "0\n",
      "1\n",
      "2\n",
      "3\n",
      "4\n"
     ]
    }
   ],
   "source": [
    "i = 0\n",
    "while i<5:\n",
    "    print(i)\n",
    "    i += 1\n",
    "#     if i == 2:\n",
    "#         break\n",
    "#     else:\n",
    "#          print(0)"
   ]
  },
  {
   "cell_type": "code",
   "execution_count": 30,
   "id": "132f45a6",
   "metadata": {},
   "outputs": [
    {
     "name": "stdout",
     "output_type": "stream",
     "text": [
      "True\n"
     ]
    }
   ],
   "source": [
    "print(\"abc\".islower())"
   ]
  },
  {
   "cell_type": "code",
   "execution_count": 36,
   "id": "7c9dc4b5",
   "metadata": {},
   "outputs": [
    {
     "data": {
      "text/plain": [
       "[3, 4, 5, 20, 5, 25, 1, 3, 34, 5]"
      ]
     },
     "execution_count": 36,
     "metadata": {},
     "output_type": "execute_result"
    }
   ],
   "source": [
    "list= [3,4,5,20,5,25,1,3]\n",
    "list.extend([34,5])\n",
    "list"
   ]
  },
  {
   "cell_type": "code",
   "execution_count": 37,
   "id": "ce73a353",
   "metadata": {},
   "outputs": [
    {
     "name": "stdout",
     "output_type": "stream",
     "text": [
      "(('check',),)\n",
      "((('check',),),)\n"
     ]
    }
   ],
   "source": [
    "a = ('check',)\n",
    "n =2\n",
    "for i in range(int(n)):\n",
    "    a=(a,)\n",
    "    print(a)"
   ]
  },
  {
   "cell_type": "code",
   "execution_count": 40,
   "id": "aba26a08",
   "metadata": {},
   "outputs": [
    {
     "data": {
      "text/plain": [
       "(1, 2, 3)"
      ]
     },
     "execution_count": 40,
     "metadata": {},
     "output_type": "execute_result"
    }
   ],
   "source": [
    "a,b,c =1,2,3\n",
    "a,b,c"
   ]
  },
  {
   "cell_type": "code",
   "execution_count": 41,
   "id": "743ec4fa",
   "metadata": {},
   "outputs": [
    {
     "ename": "ValueError",
     "evalue": "too many values to unpack (expected 2)",
     "output_type": "error",
     "traceback": [
      "\u001b[1;31m---------------------------------------------------------------------------\u001b[0m",
      "\u001b[1;31mValueError\u001b[0m                                Traceback (most recent call last)",
      "Input \u001b[1;32mIn [41]\u001b[0m, in \u001b[0;36m<cell line: 1>\u001b[1;34m()\u001b[0m\n\u001b[1;32m----> 1\u001b[0m a,b \u001b[38;5;241m=\u001b[39m\u001b[38;5;241m1\u001b[39m,\u001b[38;5;241m2\u001b[39m,\u001b[38;5;241m3\u001b[39m\n\u001b[0;32m      2\u001b[0m a,b\n",
      "\u001b[1;31mValueError\u001b[0m: too many values to unpack (expected 2)"
     ]
    }
   ],
   "source": [
    "a,b =1,2,3\n",
    "a,b"
   ]
  },
  {
   "cell_type": "code",
   "execution_count": 51,
   "id": "18cf39c2",
   "metadata": {},
   "outputs": [
    {
     "data": {
      "text/plain": [
       "[5, 7, 9]"
      ]
     },
     "execution_count": 51,
     "metadata": {},
     "output_type": "execute_result"
    }
   ],
   "source": [
    "l1 = [1,2,3]\n",
    "l2 = [4,5,6]\n",
    "l3 = []\n",
    "for i in range(0,len(l1)):\n",
    "    x = l1[i]+l2[i]\n",
    "    l3.append (x)\n",
    "l3"
   ]
  },
  {
   "cell_type": "code",
   "execution_count": 55,
   "id": "2be15428",
   "metadata": {},
   "outputs": [
    {
     "data": {
      "text/plain": [
       "[0, 1, 2]"
      ]
     },
     "execution_count": 55,
     "metadata": {},
     "output_type": "execute_result"
    }
   ],
   "source": [
    "l4 = [x for x in range(len(l1))]\n",
    "l4"
   ]
  },
  {
   "cell_type": "code",
   "execution_count": 46,
   "id": "802097bc",
   "metadata": {},
   "outputs": [
    {
     "data": {
      "text/plain": [
       "(1, 2, 3, 4)"
      ]
     },
     "execution_count": 46,
     "metadata": {},
     "output_type": "execute_result"
    }
   ],
   "source": [
    "a = 1,2\n",
    "b= 3,4\n",
    "add = a+b\n",
    "add\n"
   ]
  },
  {
   "cell_type": "code",
   "execution_count": 47,
   "id": "79034a88",
   "metadata": {},
   "outputs": [
    {
     "data": {
      "text/plain": [
       "-5"
      ]
     },
     "execution_count": 47,
     "metadata": {},
     "output_type": "execute_result"
    }
   ],
   "source": [
    "~4\n"
   ]
  },
  {
   "cell_type": "code",
   "execution_count": 57,
   "id": "9af4e18d",
   "metadata": {},
   "outputs": [
    {
     "data": {
      "text/plain": [
       "[3, 5, 20, 5, 25, 1, 3]"
      ]
     },
     "execution_count": 57,
     "metadata": {},
     "output_type": "execute_result"
    }
   ],
   "source": [
    "li = [3,4,5,20,5,25,1,3]\n",
    "li.pop(1)\n",
    "li"
   ]
  },
  {
   "cell_type": "code",
   "execution_count": 58,
   "id": "38db9427",
   "metadata": {},
   "outputs": [],
   "source": [
    "d ={}"
   ]
  },
  {
   "cell_type": "code",
   "execution_count": 66,
   "id": "ef9c2c0c",
   "metadata": {},
   "outputs": [
    {
     "ename": "TypeError",
     "evalue": "'builtin_function_or_method' object is not iterable",
     "output_type": "error",
     "traceback": [
      "\u001b[1;31m---------------------------------------------------------------------------\u001b[0m",
      "\u001b[1;31mTypeError\u001b[0m                                 Traceback (most recent call last)",
      "Input \u001b[1;32mIn [66]\u001b[0m, in \u001b[0;36m<cell line: 2>\u001b[1;34m()\u001b[0m\n\u001b[0;32m      1\u001b[0m d \u001b[38;5;241m=\u001b[39m {\u001b[38;5;124m'\u001b[39m\u001b[38;5;124mper\u001b[39m\u001b[38;5;124m'\u001b[39m:\u001b[38;5;241m45\u001b[39m,\u001b[38;5;124m'\u001b[39m\u001b[38;5;124mjhon\u001b[39m\u001b[38;5;124m'\u001b[39m:\u001b[38;5;241m98\u001b[39m}\n\u001b[1;32m----> 2\u001b[0m \u001b[38;5;28;01mfor\u001b[39;00m i \u001b[38;5;129;01min\u001b[39;00m d\u001b[38;5;241m.\u001b[39mkeys:\n\u001b[0;32m      3\u001b[0m     \u001b[38;5;28mprint\u001b[39m(i)\n",
      "\u001b[1;31mTypeError\u001b[0m: 'builtin_function_or_method' object is not iterable"
     ]
    }
   ],
   "source": [
    "d = {'per':45,'jhon':98}\n"
   ]
  },
  {
   "cell_type": "code",
   "execution_count": 68,
   "id": "613404f8",
   "metadata": {},
   "outputs": [],
   "source": [
    "a={5}"
   ]
  },
  {
   "cell_type": "code",
   "execution_count": 73,
   "id": "462822b2",
   "metadata": {},
   "outputs": [
    {
     "name": "stdout",
     "output_type": "stream",
     "text": [
      "{2, 3, 4}\n"
     ]
    }
   ],
   "source": [
    "a = [1,2,3,4,5,6]\n",
    "b = [2,3,4,8,9,2]\n",
    "\n",
    "s_l=set(a)\n",
    "s_l1 = set(b)\n",
    "if s_l &s_l1:\n",
    "    print(s_l&s_l1)\n",
    "    "
   ]
  },
  {
   "cell_type": "code",
   "execution_count": 74,
   "id": "fb374e48",
   "metadata": {},
   "outputs": [
    {
     "data": {
      "text/plain": [
       "[2, 3, 4]"
      ]
     },
     "execution_count": 74,
     "metadata": {},
     "output_type": "execute_result"
    }
   ],
   "source": [
    "l2 = [i for i in a if i in b]\n",
    "l2"
   ]
  },
  {
   "cell_type": "code",
   "execution_count": 79,
   "id": "fe72489e",
   "metadata": {},
   "outputs": [
    {
     "name": "stdout",
     "output_type": "stream",
     "text": [
      "[2, 3, 4]\n"
     ]
    }
   ],
   "source": [
    "a = [1,2,3,4,5,6]\n",
    "b = [2,3,4,8,9,2]\n",
    "res = []\n",
    "for i in a:\n",
    "    if i in b:\n",
    "        res.append(i)\n",
    "print(res)"
   ]
  },
  {
   "cell_type": "code",
   "execution_count": 96,
   "id": "a6820d0d",
   "metadata": {},
   "outputs": [
    {
     "data": {
      "text/plain": [
       "[1, 2, 5, 6, 4, 3, 21]"
      ]
     },
     "execution_count": 96,
     "metadata": {},
     "output_type": "execute_result"
    }
   ],
   "source": [
    "abc = [1,2,5,6,4,2,1,3,2,1,3,2,1,2,1,21,]\n",
    "bcd = []\n",
    "for i in abc:\n",
    "    if i not in bcd:\n",
    "        bcd.append(i)\n",
    "bcd"
   ]
  },
  {
   "cell_type": "code",
   "execution_count": 121,
   "id": "f5cce1ad",
   "metadata": {},
   "outputs": [
    {
     "name": "stdout",
     "output_type": "stream",
     "text": [
      "[1, 2, 3, 4, 5, 6, 21]\n"
     ]
    }
   ],
   "source": [
    "a = [1,2,5,6,4,2,1,3,2,1,3,2,1,2,1,21,]\n",
    "b = [i for i in set(a)]\n",
    "print(b)"
   ]
  },
  {
   "cell_type": "code",
   "execution_count": 132,
   "id": "66d1ebbe",
   "metadata": {},
   "outputs": [
    {
     "name": "stdout",
     "output_type": "stream",
     "text": [
      "1\n",
      "2\n"
     ]
    },
    {
     "data": {
      "text/plain": [
       "2"
      ]
     },
     "execution_count": 132,
     "metadata": {},
     "output_type": "execute_result"
    }
   ],
   "source": [
    "x=1\n",
    "def cg():\n",
    "    global x\n",
    "    print(x)\n",
    "    x=x+1\n",
    "    print(x)\n",
    "cg()\n",
    "x"
   ]
  },
  {
   "cell_type": "code",
   "execution_count": 133,
   "id": "a976693a",
   "metadata": {},
   "outputs": [
    {
     "name": "stdout",
     "output_type": "stream",
     "text": [
      "False\n"
     ]
    }
   ],
   "source": [
    "def foo(x):\n",
    "    x = ['def', 'abc']\n",
    "    return id(x)\n",
    "q = ['abc', 'def']\n",
    "print(id(q) == foo(q))"
   ]
  },
  {
   "cell_type": "code",
   "execution_count": 138,
   "id": "7d1423ab",
   "metadata": {},
   "outputs": [
    {
     "name": "stdout",
     "output_type": "stream",
     "text": [
      "bitter\n"
     ]
    },
    {
     "ename": "TypeError",
     "evalue": "unsupported operand type(s) for +: 'NoneType' and 'str'",
     "output_type": "error",
     "traceback": [
      "\u001b[1;31m---------------------------------------------------------------------------\u001b[0m",
      "\u001b[1;31mTypeError\u001b[0m                                 Traceback (most recent call last)",
      "Input \u001b[1;32mIn [138]\u001b[0m, in \u001b[0;36m<cell line: 4>\u001b[1;34m()\u001b[0m\n\u001b[0;32m      2\u001b[0m \u001b[38;5;28;01mdef\u001b[39;00m \u001b[38;5;21mf\u001b[39m(a):\n\u001b[0;32m      3\u001b[0m     \u001b[38;5;28mprint\u001b[39m(a)\u001b[38;5;241m+\u001b[39me\n\u001b[1;32m----> 4\u001b[0m \u001b[43mf\u001b[49m\u001b[43m(\u001b[49m\u001b[38;5;124;43m\"\u001b[39;49m\u001b[38;5;124;43mbitter\u001b[39;49m\u001b[38;5;124;43m\"\u001b[39;49m\u001b[43m)\u001b[49m\n",
      "Input \u001b[1;32mIn [138]\u001b[0m, in \u001b[0;36mf\u001b[1;34m(a)\u001b[0m\n\u001b[0;32m      2\u001b[0m \u001b[38;5;28;01mdef\u001b[39;00m \u001b[38;5;21mf\u001b[39m(a):\n\u001b[1;32m----> 3\u001b[0m     \u001b[38;5;28;43mprint\u001b[39;49m\u001b[43m(\u001b[49m\u001b[43ma\u001b[49m\u001b[43m)\u001b[49m\u001b[38;5;241;43m+\u001b[39;49m\u001b[43me\u001b[49m\n",
      "\u001b[1;31mTypeError\u001b[0m: unsupported operand type(s) for +: 'NoneType' and 'str'"
     ]
    }
   ],
   "source": [
    "e=\"butter\"\n",
    "def f(a):\n",
    "    print(a)+e\n",
    "f(\"bitter\")"
   ]
  },
  {
   "cell_type": "code",
   "execution_count": 139,
   "id": "575eb47e",
   "metadata": {},
   "outputs": [
    {
     "name": "stdout",
     "output_type": "stream",
     "text": [
      "15\n"
     ]
    }
   ],
   "source": [
    "def f1():\n",
    "    x=15\n",
    "    print(x)\n",
    "x=12\n",
    "f1()"
   ]
  },
  {
   "cell_type": "code",
   "execution_count": 140,
   "id": "6b80b486",
   "metadata": {},
   "outputs": [
    {
     "name": "stdout",
     "output_type": "stream",
     "text": [
      "x\n"
     ]
    }
   ],
   "source": [
    "def f1():\n",
    "    global x\n",
    "    x+=1\n",
    "    print(x)\n",
    "x=12\n",
    "\n",
    "print(\"x\")"
   ]
  },
  {
   "cell_type": "code",
   "execution_count": 143,
   "id": "feebc750",
   "metadata": {},
   "outputs": [
    {
     "ename": "SyntaxError",
     "evalue": "name 'x' is parameter and global (2272465800.py, line 3)",
     "output_type": "error",
     "traceback": [
      "\u001b[1;36m  Input \u001b[1;32mIn [143]\u001b[1;36m\u001b[0m\n\u001b[1;33m    global x\u001b[0m\n\u001b[1;37m    ^\u001b[0m\n\u001b[1;31mSyntaxError\u001b[0m\u001b[1;31m:\u001b[0m name 'x' is parameter and global\n"
     ]
    }
   ],
   "source": [
    "x =2\n",
    "def f1(x):\n",
    "    global x\n",
    "    x+=1\n",
    "    print(x)\n",
    "f1(15)\n",
    "print(\"hello\")"
   ]
  },
  {
   "cell_type": "code",
   "execution_count": 144,
   "id": "dc946012",
   "metadata": {},
   "outputs": [
    {
     "name": "stdout",
     "output_type": "stream",
     "text": [
      "world\n",
      "hello\n",
      "hello\n"
     ]
    }
   ],
   "source": [
    "def f():\n",
    "    global a\n",
    "    print(a)\n",
    "    a = \"hello\"\n",
    "    print(a) \n",
    "a = \"world\" \n",
    "f()\n",
    "print(a)"
   ]
  },
  {
   "cell_type": "code",
   "execution_count": 145,
   "id": "dab596a8",
   "metadata": {},
   "outputs": [
    {
     "name": "stdout",
     "output_type": "stream",
     "text": [
      "outer\n"
     ]
    },
    {
     "ename": "TypeError",
     "evalue": "f1() takes 0 positional arguments but 1 was given",
     "output_type": "error",
     "traceback": [
      "\u001b[1;31m---------------------------------------------------------------------------\u001b[0m",
      "\u001b[1;31mTypeError\u001b[0m                                 Traceback (most recent call last)",
      "Input \u001b[1;32mIn [145]\u001b[0m, in \u001b[0;36m<cell line: 7>\u001b[1;34m()\u001b[0m\n\u001b[0;32m      5\u001b[0m         \u001b[38;5;28mprint\u001b[39m(a,x)\n\u001b[0;32m      6\u001b[0m f(\u001b[38;5;241m3\u001b[39m)\n\u001b[1;32m----> 7\u001b[0m \u001b[43mf1\u001b[49m\u001b[43m(\u001b[49m\u001b[38;5;241;43m1\u001b[39;49m\u001b[43m)\u001b[49m\n",
      "\u001b[1;31mTypeError\u001b[0m: f1() takes 0 positional arguments but 1 was given"
     ]
    }
   ],
   "source": [
    "def f(x):\n",
    "    print(\"outer\")\n",
    "    def f1(a):\n",
    "        print(\"inner\")\n",
    "        print(a,x)\n",
    "f(3)\n",
    "f1(1)"
   ]
  },
  {
   "cell_type": "code",
   "execution_count": 147,
   "id": "ebca2f86",
   "metadata": {},
   "outputs": [
    {
     "data": {
      "text/plain": [
       "[1, 3, 4]"
      ]
     },
     "execution_count": 147,
     "metadata": {},
     "output_type": "execute_result"
    }
   ],
   "source": [
    "l = [1,2,3,4,5]\n",
    "l2 = [3,1,4,7,8,9]\n",
    "\n",
    "l3 = [i for i in l if i in l2]\n",
    "l3"
   ]
  },
  {
   "cell_type": "code",
   "execution_count": 161,
   "id": "8dae5ca5",
   "metadata": {},
   "outputs": [
    {
     "name": "stdout",
     "output_type": "stream",
     "text": [
      "second highest form list 5\n"
     ]
    }
   ],
   "source": [
    "list_1 = [1,2,3,4,5,5,6]\n",
    "n_li =list(set(list_1))\n",
    "l.sort()\n",
    "print(\"second highest form list\",l[-2])"
   ]
  },
  {
   "cell_type": "code",
   "execution_count": 165,
   "id": "ed904fd8",
   "metadata": {},
   "outputs": [
    {
     "ename": "NameError",
     "evalue": "name 'list' is not defined",
     "output_type": "error",
     "traceback": [
      "\u001b[1;31m---------------------------------------------------------------------------\u001b[0m",
      "\u001b[1;31mNameError\u001b[0m                                 Traceback (most recent call last)",
      "Input \u001b[1;32mIn [165]\u001b[0m, in \u001b[0;36m<cell line: 1>\u001b[1;34m()\u001b[0m\n\u001b[1;32m----> 1\u001b[0m \u001b[38;5;28;01mdel\u001b[39;00m \u001b[38;5;28mlist\u001b[39m\n",
      "\u001b[1;31mNameError\u001b[0m: name 'list' is not defined"
     ]
    }
   ],
   "source": [
    "del list"
   ]
  },
  {
   "cell_type": "code",
   "execution_count": 167,
   "id": "e9d68a80",
   "metadata": {},
   "outputs": [
    {
     "name": "stdout",
     "output_type": "stream",
     "text": [
      "1 is between 1 and 10\n",
      "2 is between 1 and 10\n",
      "3 is between 1 and 10\n",
      "4 is between 1 and 10\n",
      "5 is between 1 and 10\n"
     ]
    }
   ],
   "source": [
    "ints = [1, 2, 3, 4, 5] # Rename \"list\" to \"ints\"\n",
    "myrange = list(range(1, 10))\n",
    "\n",
    "for number in ints: # Renamed \"list\" to \"ints\"\n",
    "    if number in myrange:\n",
    "        print(number, 'is between 1 and 10')"
   ]
  },
  {
   "cell_type": "code",
   "execution_count": 171,
   "id": "062e4e23",
   "metadata": {},
   "outputs": [
    {
     "data": {
      "text/plain": [
       "['c:\\\\users\\\\91940\\\\appdata\\\\local\\\\programs\\\\python\\\\python39\\\\lib\\\\site-packages\\\\ipykernel_launcher.py',\n",
       " '-f',\n",
       " 'C:\\\\Users\\\\91940\\\\AppData\\\\Roaming\\\\jupyter\\\\runtime\\\\kernel-a0818d9d-4281-436e-b7ec-b09bd5fa5c1b.json']"
      ]
     },
     "execution_count": 171,
     "metadata": {},
     "output_type": "execute_result"
    }
   ],
   "source": [
    "import sys\n",
    "sys.argv"
   ]
  },
  {
   "cell_type": "code",
   "execution_count": 172,
   "id": "aec223d0",
   "metadata": {},
   "outputs": [
    {
     "data": {
      "text/plain": [
       "-101"
      ]
     },
     "execution_count": 172,
     "metadata": {},
     "output_type": "execute_result"
    }
   ],
   "source": [
    "~100\n"
   ]
  },
  {
   "cell_type": "code",
   "execution_count": 173,
   "id": "594e7086",
   "metadata": {},
   "outputs": [
    {
     "data": {
      "text/plain": [
       "-5"
      ]
     },
     "execution_count": 173,
     "metadata": {},
     "output_type": "execute_result"
    }
   ],
   "source": [
    "~4"
   ]
  },
  {
   "cell_type": "code",
   "execution_count": 174,
   "id": "1fd8571c",
   "metadata": {},
   "outputs": [
    {
     "data": {
      "text/plain": [
       "-5"
      ]
     },
     "execution_count": 174,
     "metadata": {},
     "output_type": "execute_result"
    }
   ],
   "source": [
    "-(4+1)"
   ]
  },
  {
   "cell_type": "code",
   "execution_count": 175,
   "id": "1cd369fd",
   "metadata": {},
   "outputs": [
    {
     "data": {
      "text/plain": [
       "\"a=H, b=O, c=['E', 'L']\""
      ]
     },
     "execution_count": 175,
     "metadata": {},
     "output_type": "execute_result"
    }
   ],
   "source": [
    "l=list('HELLO')\n",
    "p=l[0], l[-1], l[1:3]\n",
    "'a={0}, b={1}, c={2}'.format(*p)"
   ]
  },
  {
   "cell_type": "code",
   "execution_count": 178,
   "id": "25f4fa74",
   "metadata": {},
   "outputs": [
    {
     "data": {
      "text/plain": [
       "27.2"
      ]
     },
     "execution_count": 178,
     "metadata": {},
     "output_type": "execute_result"
    }
   ],
   "source": [
    "x = 2+9*((3*12)-8)/10\n",
    "x"
   ]
  },
  {
   "cell_type": "code",
   "execution_count": 186,
   "id": "73bd6461",
   "metadata": {},
   "outputs": [
    {
     "data": {
      "text/plain": [
       "27.2"
      ]
     },
     "execution_count": 186,
     "metadata": {},
     "output_type": "execute_result"
    }
   ],
   "source": [
    "x=28*9/10+2\n",
    "\n",
    "x"
   ]
  },
  {
   "cell_type": "code",
   "execution_count": 1,
   "id": "a7e10775",
   "metadata": {},
   "outputs": [
    {
     "data": {
      "text/plain": [
       "256"
      ]
     },
     "execution_count": 1,
     "metadata": {},
     "output_type": "execute_result"
    }
   ],
   "source": [
    "2**2**3"
   ]
  },
  {
   "cell_type": "code",
   "execution_count": 2,
   "id": "cbd289a3",
   "metadata": {},
   "outputs": [
    {
     "data": {
      "text/plain": [
       "64"
      ]
     },
     "execution_count": 2,
     "metadata": {},
     "output_type": "execute_result"
    }
   ],
   "source": [
    "(2**2)**3"
   ]
  },
  {
   "cell_type": "code",
   "execution_count": null,
   "id": "ac1e7af3",
   "metadata": {},
   "outputs": [],
   "source": []
  }
 ],
 "metadata": {
  "kernelspec": {
   "display_name": "Python 3 (ipykernel)",
   "language": "python",
   "name": "python3"
  },
  "language_info": {
   "codemirror_mode": {
    "name": "ipython",
    "version": 3
   },
   "file_extension": ".py",
   "mimetype": "text/x-python",
   "name": "python",
   "nbconvert_exporter": "python",
   "pygments_lexer": "ipython3",
   "version": "3.9.4"
  }
 },
 "nbformat": 4,
 "nbformat_minor": 5
}
