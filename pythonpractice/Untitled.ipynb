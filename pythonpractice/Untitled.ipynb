{
 "cells": [
  {
   "cell_type": "code",
   "execution_count": 32,
   "id": "30dd8b67",
   "metadata": {},
   "outputs": [
    {
     "name": "stdout",
     "output_type": "stream",
     "text": [
      "\n",
      "* \n",
      "* * \n",
      "* * * \n",
      "* * * * \n",
      "* * * * * \n",
      "* * * * * * \n",
      "* * * * * * * \n",
      "* * * * * * * * \n",
      "* * * * * * * * * \n"
     ]
    }
   ],
   "source": [
    "n =10 \n",
    "for i in range(n):\n",
    "    print((\"* \"*(i)))"
   ]
  },
  {
   "cell_type": "code",
   "execution_count": 12,
   "id": "63fc200c",
   "metadata": {},
   "outputs": [
    {
     "name": "stdout",
     "output_type": "stream",
     "text": [
      "54321"
     ]
    }
   ],
   "source": [
    "for i in range(5,0,-1):\n",
    "    \n",
    "    print(i,end=\"\")"
   ]
  },
  {
   "cell_type": "code",
   "execution_count": 18,
   "id": "e0081477",
   "metadata": {},
   "outputs": [
    {
     "data": {
      "text/plain": [
       "'narmI'"
      ]
     },
     "execution_count": 18,
     "metadata": {},
     "output_type": "execute_result"
    }
   ],
   "source": [
    "s =  \"Imran\"\n",
    "(s[::-1])"
   ]
  },
  {
   "cell_type": "code",
   "execution_count": 19,
   "id": "3c2fdf14",
   "metadata": {},
   "outputs": [
    {
     "data": {
      "text/plain": [
       "'Imran'"
      ]
     },
     "execution_count": 19,
     "metadata": {},
     "output_type": "execute_result"
    }
   ],
   "source": [
    "s"
   ]
  },
  {
   "cell_type": "code",
   "execution_count": 37,
   "id": "b89198b3",
   "metadata": {},
   "outputs": [
    {
     "name": "stdout",
     "output_type": "stream",
     "text": [
      "I ma narmI "
     ]
    }
   ],
   "source": [
    "s = 'I am Imran'\n",
    "s = s.split()\n",
    "for i in s:\n",
    "    print(i[::-1],end=\" \")"
   ]
  },
  {
   "cell_type": "code",
   "execution_count": 53,
   "id": "d634a88d",
   "metadata": {},
   "outputs": [
    {
     "name": "stdout",
     "output_type": "stream",
     "text": [
      " narmI\n"
     ]
    }
   ],
   "source": [
    "s = \"Imran\"\n",
    "b = \" \"\n",
    "for i in range(1,len(s)+1):\n",
    "    b += s[-i]\n",
    "print(b)"
   ]
  },
  {
   "cell_type": "code",
   "execution_count": 89,
   "id": "98528921",
   "metadata": {},
   "outputs": [
    {
     "name": "stdout",
     "output_type": "stream",
     "text": [
      "100\n"
     ]
    }
   ],
   "source": [
    "list = [1,5,62,6,7,8,9,100]\n",
    "a = 0\n",
    "for i in list:\n",
    "    if i > a:\n",
    "       a = i\n",
    "print(a)"
   ]
  },
  {
   "cell_type": "code",
   "execution_count": 112,
   "id": "0cc208cb",
   "metadata": {},
   "outputs": [
    {
     "name": "stdout",
     "output_type": "stream",
     "text": [
      "10\n"
     ]
    }
   ],
   "source": [
    "a = \"I am Imran\"\n",
    "c = 0\n",
    "for i in a:\n",
    "    c += 1\n",
    "print(c)"
   ]
  },
  {
   "cell_type": "code",
   "execution_count": 155,
   "id": "d1074e89",
   "metadata": {},
   "outputs": [
    {
     "name": "stdout",
     "output_type": "stream",
     "text": [
      "24\n"
     ]
    }
   ],
   "source": [
    "n = 4\n",
    "fact = 1\n",
    "while(n>1):\n",
    "    fact = fact*n\n",
    "    n -= 1\n",
    "print(fact)"
   ]
  },
  {
   "cell_type": "code",
   "execution_count": 157,
   "id": "7cde81d8",
   "metadata": {},
   "outputs": [
    {
     "name": "stdout",
     "output_type": "stream",
     "text": [
      "10\n"
     ]
    }
   ],
   "source": [
    "a =10\n",
    "print(a)\n"
   ]
  },
  {
   "cell_type": "code",
   "execution_count": 163,
   "id": "4a966a82",
   "metadata": {},
   "outputs": [
    {
     "name": "stdout",
     "output_type": "stream",
     "text": [
      "720\n"
     ]
    }
   ],
   "source": [
    "num = 6\n",
    "fac = 1\n",
    "while (num>1):\n",
    "    fac = fac*num\n",
    "    num -= 1\n",
    "print(fac)"
   ]
  },
  {
   "cell_type": "code",
   "execution_count": 232,
   "id": "af5f03b9",
   "metadata": {},
   "outputs": [
    {
     "name": "stdout",
     "output_type": "stream",
     "text": [
      "333\n",
      "222\n",
      "111\n"
     ]
    }
   ],
   "source": [
    "n = 3\n",
    "for i in range(3,0,-1):\n",
    "    for j in range(3,0,-1):\n",
    "            print(i,end=\"\")\n",
    "    print()"
   ]
  },
  {
   "cell_type": "code",
   "execution_count": 164,
   "id": "fe3ce28b",
   "metadata": {
    "scrolled": true
   },
   "outputs": [
    {
     "name": "stdout",
     "output_type": "stream",
     "text": [
      " * * * * * * * * * * \n",
      "  * * * * * * * * * \n",
      "   * * * * * * * * \n",
      "    * * * * * * * \n",
      "     * * * * * * \n",
      "      * * * * * \n",
      "       * * * * \n",
      "        * * * \n",
      "         * * \n",
      "          * \n"
     ]
    }
   ],
   "source": [
    "n =10\n",
    "\n",
    "for i in range(n):\n",
    "    print((\" \"*(i)),(\"* \"*(n-i)))"
   ]
  },
  {
   "cell_type": "code",
   "execution_count": 179,
   "id": "044f83e2",
   "metadata": {},
   "outputs": [
    {
     "name": "stdout",
     "output_type": "stream",
     "text": [
      "[1, 2, 3, 5, 4, 6]\n"
     ]
    }
   ],
   "source": [
    "L = [1, 2,2,3,5 ,4,6,3,5,]\n",
    "L1 = [2,4,3,7,8,1,9]\n",
    "B = []\n",
    "for i in L:\n",
    "    if  i not in B:\n",
    "        B.append(i)\n",
    "print(B)\n",
    "        "
   ]
  },
  {
   "cell_type": "code",
   "execution_count": 183,
   "id": "26b2e825",
   "metadata": {},
   "outputs": [
    {
     "name": "stdout",
     "output_type": "stream",
     "text": [
      "120\n"
     ]
    }
   ],
   "source": [
    "num = 5\n",
    "fact = 1\n",
    "\n",
    "while(num>1):\n",
    "    fact = fact*num\n",
    "    num -= 1\n",
    "print(fact)\n",
    "    "
   ]
  },
  {
   "cell_type": "code",
   "execution_count": 2,
   "id": "da82d7f9",
   "metadata": {},
   "outputs": [
    {
     "name": "stdout",
     "output_type": "stream",
     "text": [
      "0\n",
      "1\n"
     ]
    }
   ],
   "source": [
    "n = 10\n",
    "a = 0\n",
    "b = 1\n",
    "print(a)\n",
    "print(b)\n",
    "c =a+b\n",
    "for i in range(n-2):\n",
    "    print(c)\n",
    "    a = b\n",
    "    b = c\n",
    "    c =a+b"
   ]
  },
  {
   "cell_type": "code",
   "execution_count": 137,
   "id": "3df016d1",
   "metadata": {},
   "outputs": [
    {
     "name": "stdout",
     "output_type": "stream",
     "text": [
      "5 5 5 5 5 \n",
      "4 4 4 4 \n",
      "3 3 3 \n",
      "2 2 \n",
      "1 \n"
     ]
    }
   ],
   "source": [
    "n = 5\n",
    "for i in range(n,0,-1):\n",
    "    for j in range(i,0,-1):\n",
    "        print(i,end=\" \")\n",
    "    print()"
   ]
  },
  {
   "cell_type": "code",
   "execution_count": 93,
   "id": "3733d473",
   "metadata": {},
   "outputs": [
    {
     "name": "stdout",
     "output_type": "stream",
     "text": [
      "making result poisitve\n",
      "60.0\n"
     ]
    }
   ],
   "source": [
    "from math import *\n",
    "def Outer(func):\n",
    "    def Inner(a,b):\n",
    "        \n",
    "        print(\"making result poisitve\")\n",
    "        print(fabs(a-b))\n",
    "        func(a,b)\n",
    "    return Inner\n",
    "\n",
    "@Outer\n",
    "def mins(a,b):\n",
    "         a-b\n",
    "\n",
    "mins(40,100)\n",
    "\n",
    "\n"
   ]
  },
  {
   "cell_type": "code",
   "execution_count": 3,
   "id": "fb0a733f",
   "metadata": {},
   "outputs": [
    {
     "name": "stdout",
     "output_type": "stream",
     "text": [
      "1\n",
      "2\n",
      "3\n",
      "5\n",
      "8\n",
      "13\n",
      "21\n",
      "34\n",
      "55\n",
      "89\n"
     ]
    }
   ],
   "source": [
    "n = 10 \n",
    "a = 0\n",
    "b = 1\n",
    "for i in range(n):\n",
    "    \n",
    "    \n",
    "    c = a+b\n",
    "    a = b\n",
    "    b = c\n",
    "    print(c)\n",
    "    "
   ]
  },
  {
   "cell_type": "code",
   "execution_count": 32,
   "id": "7784352b",
   "metadata": {},
   "outputs": [
    {
     "name": "stdout",
     "output_type": "stream",
     "text": [
      "89\n"
     ]
    }
   ],
   "source": [
    "\n",
    "def fibonacci(n):\n",
    "    a = 0\n",
    "    b = 1\n",
    "     \n",
    "    # Check is n is less\n",
    "    # than 0\n",
    "    if n < 0:\n",
    "        print(\"Incorrect input\")\n",
    "         \n",
    "    # Check is n is equal\n",
    "    # to 0\n",
    "    elif n == 0:\n",
    "        return 0\n",
    "       \n",
    "    # Check if n is equal to 1\n",
    "    elif n == 1:\n",
    "        return b\n",
    "    else:\n",
    "        for i in range(n):\n",
    "            c = a + b\n",
    "            a = b\n",
    "            b = c\n",
    "        return b\n",
    " \n",
    "# Driver Program\n",
    "print(fibonacci(10))\n"
   ]
  },
  {
   "cell_type": "code",
   "execution_count": 37,
   "id": "46bec482",
   "metadata": {},
   "outputs": [
    {
     "name": "stdout",
     "output_type": "stream",
     "text": [
      "Enter the n terms: 0\n",
      "Please enter a positive integer\n"
     ]
    }
   ],
   "source": [
    "n = int(input(\"Enter the n terms: \"))\n",
    "n1, n2 = 0, 1\n",
    "count = 0\n",
    "if n <= 0:\n",
    "   print(\"Please enter a positive integer\")\n",
    "elif n == 1:\n",
    "   print(\"Fibonacci sequence upto\",n,\":\")\n",
    "   print(n1)\n",
    "else:\n",
    "   print(\"Fibonacci sequence:\")\n",
    "   while count < n:\n",
    "       print(n1)\n",
    "       r = n1 + n2\n",
    "       n1 = n2\n",
    "       n2 = r\n",
    "       count += 1"
   ]
  },
  {
   "cell_type": "code",
   "execution_count": 40,
   "id": "0d83e1c1",
   "metadata": {},
   "outputs": [
    {
     "name": "stdout",
     "output_type": "stream",
     "text": [
      "Reversed Number:  4321\n"
     ]
    }
   ],
   "source": [
    "num = 1234\n",
    "reversed_num = 0\n",
    "\n",
    "while num != 0:\n",
    "    digit = num % 10\n",
    "    reversed_num = reversed_num * 10 + digit\n",
    "    num //= 10\n",
    "\n",
    "print(\"Reversed Number: \" ,reversed_num)"
   ]
  },
  {
   "cell_type": "code",
   "execution_count": 42,
   "id": "71e18715",
   "metadata": {},
   "outputs": [
    {
     "name": "stdout",
     "output_type": "stream",
     "text": [
      "54321\n"
     ]
    }
   ],
   "source": [
    "n = 12345\n",
    "rev = 0\n",
    "\n",
    "while n != 0:\n",
    "    d = n %10\n",
    "    rev = rev * 10 + d\n",
    "    n //= 10\n",
    "print(rev)"
   ]
  },
  {
   "cell_type": "code",
   "execution_count": 81,
   "id": "ae84af35",
   "metadata": {},
   "outputs": [
    {
     "name": "stdout",
     "output_type": "stream",
     "text": [
      "5\n"
     ]
    }
   ],
   "source": [
    "s = \"Imran\"\n",
    "b = 0\n",
    "for i in range(1,len(s)+1):\n",
    "    b +=1\n",
    "print(b)\n"
   ]
  },
  {
   "cell_type": "code",
   "execution_count": 110,
   "id": "8bf727d6",
   "metadata": {},
   "outputs": [
    {
     "name": "stdout",
     "output_type": "stream",
     "text": [
      "13\n"
     ]
    }
   ],
   "source": [
    "l = [1,2,3,4,5,3,6,41,3,4,3,1,20]\n",
    "c = 0\n",
    "for i in l:\n",
    "    c +=1\n",
    "    \n",
    "print(c)"
   ]
  },
  {
   "cell_type": "code",
   "execution_count": 125,
   "id": "9edff943",
   "metadata": {},
   "outputs": [
    {
     "name": "stdout",
     "output_type": "stream",
     "text": [
      "[1, 2, 3, 4, 5, 6, 41, 20]\n"
     ]
    }
   ],
   "source": [
    "l = [1,2,3,4,5,3,6,41,3,4,3,1,20]\n",
    "b = []\n",
    "for i in l:\n",
    "    if i not in b:\n",
    "        b.append(i)\n",
    "l = b\n",
    "print(l)"
   ]
  },
  {
   "cell_type": "code",
   "execution_count": 129,
   "id": "c6b85458",
   "metadata": {},
   "outputs": [
    {
     "name": "stdout",
     "output_type": "stream",
     "text": [
      "0\n",
      "1\n",
      "1\n",
      "2\n",
      "3\n",
      "5\n",
      "8\n",
      "13\n",
      "21\n",
      "34\n"
     ]
    }
   ],
   "source": [
    "n = 10\n",
    "\n",
    "a =0 \n",
    "b = 1\n",
    "for i in range(n):\n",
    "    print(a)\n",
    "    c = a+b\n",
    "    a = b \n",
    "    b = c\n",
    "    \n",
    "\n"
   ]
  },
  {
   "cell_type": "code",
   "execution_count": 134,
   "id": "f46ad23f",
   "metadata": {},
   "outputs": [
    {
     "name": "stdout",
     "output_type": "stream",
     "text": [
      "41\n"
     ]
    }
   ],
   "source": [
    "l = [1,2,3,4,5,3,6,41,3,4,3,1,20]\n",
    "\n",
    "c = 0\n",
    "\n",
    "for i in l:\n",
    "    if i > c:\n",
    "        c = i\n",
    "print(c)\n",
    "        "
   ]
  },
  {
   "cell_type": "code",
   "execution_count": 135,
   "id": "70fc40d6",
   "metadata": {},
   "outputs": [
    {
     "name": "stdout",
     "output_type": "stream",
     "text": [
      "120\n"
     ]
    }
   ],
   "source": [
    "num = 5\n",
    "fact = 1\n",
    "while (num > 1):\n",
    "    fact = fact*num \n",
    "    num -=1\n",
    "print(fact)\n"
   ]
  },
  {
   "cell_type": "code",
   "execution_count": 136,
   "id": "cbdac655",
   "metadata": {},
   "outputs": [
    {
     "name": "stdout",
     "output_type": "stream",
     "text": [
      "nohtyp\n"
     ]
    }
   ],
   "source": [
    "a =\"python\"\n",
    "b = ''\n",
    "for i in range(1,len(a)+1):\n",
    "    b +=a[-i]\n",
    "print(b)"
   ]
  },
  {
   "cell_type": "code",
   "execution_count": 138,
   "id": "7e517bb4",
   "metadata": {},
   "outputs": [
    {
     "name": "stdout",
     "output_type": "stream",
     "text": [
      "6\n"
     ]
    }
   ],
   "source": [
    "a =\"python\"\n",
    "c = 0\n",
    "for i in a:\n",
    "    c +=1\n",
    "print(c)"
   ]
  },
  {
   "cell_type": "code",
   "execution_count": 141,
   "id": "5b0e8a55",
   "metadata": {},
   "outputs": [
    {
     "name": "stdout",
     "output_type": "stream",
     "text": [
      "54321\n"
     ]
    }
   ],
   "source": [
    "num = 12345\n",
    "rev = 0\n",
    "\n",
    "\n",
    "while(num!=0):\n",
    "    digit = num%10\n",
    "    rev = rev*10+digit\n",
    "    num = num//10\n",
    "print(rev)"
   ]
  },
  {
   "cell_type": "code",
   "execution_count": 153,
   "id": "94abbd33",
   "metadata": {},
   "outputs": [
    {
     "name": "stdout",
     "output_type": "stream",
     "text": [
      "* * * * * * * * * * \n",
      " * * * * * * * * * \n",
      "  * * * * * * * * \n",
      "   * * * * * * * \n",
      "    * * * * * * \n",
      "     * * * * * \n",
      "      * * * * \n",
      "       * * * \n",
      "        * * \n",
      "         * \n"
     ]
    }
   ],
   "source": [
    " n = 10 \n",
    "    \n",
    "for i in range(n):\n",
    "    print((\" \"* i )+(\"* \"*(n-i)))"
   ]
  },
  {
   "cell_type": "code",
   "execution_count": 219,
   "id": "6bbbcccd",
   "metadata": {},
   "outputs": [
    {
     "name": "stdout",
     "output_type": "stream",
     "text": [
      "55555\n",
      "4444\n",
      "333\n",
      "22\n",
      "1\n"
     ]
    }
   ],
   "source": [
    "n = 5 \n",
    "for i in range(n):\n",
    "    print(str(n-i)*(n-i))"
   ]
  },
  {
   "cell_type": "code",
   "execution_count": 151,
   "id": "9b30cac1",
   "metadata": {},
   "outputs": [
    {
     "name": "stdout",
     "output_type": "stream",
     "text": [
      "55555\n",
      "4444\n",
      "333\n",
      "22\n",
      "1\n"
     ]
    }
   ],
   "source": [
    "n = 5 \n",
    "for i in range(n,0,-1):\n",
    "    for j in range(i,0,-1):\n",
    "        print(i,end=\"\")\n",
    "    print()"
   ]
  },
  {
   "cell_type": "code",
   "execution_count": 167,
   "id": "ed8c00a5",
   "metadata": {},
   "outputs": [
    {
     "name": "stdout",
     "output_type": "stream",
     "text": [
      "* * * * * \n",
      "* * * * \n",
      "* * * \n",
      "* * \n",
      "* \n"
     ]
    }
   ],
   "source": [
    "n = 5 \n",
    "for i in range(n,0,-1):\n",
    "    for j in range(i,0,-1):\n",
    "        print(end=\"\"+\"* \")\n",
    "    print()"
   ]
  },
  {
   "cell_type": "code",
   "execution_count": 181,
   "id": "8422094b",
   "metadata": {},
   "outputs": [
    {
     "name": "stdout",
     "output_type": "stream",
     "text": [
      "* * * * * \n",
      "* * * * \n",
      "* * * \n",
      "* * \n",
      "* \n"
     ]
    }
   ],
   "source": [
    "n =5\n",
    "for i in range(n):\n",
    "    print((\"\"* n )+(\"* \"*(n-i)))"
   ]
  },
  {
   "cell_type": "code",
   "execution_count": 215,
   "id": "337f37d0",
   "metadata": {},
   "outputs": [
    {
     "name": "stdout",
     "output_type": "stream",
     "text": [
      " * \n",
      " * * \n",
      " * * * \n",
      " * * * * \n",
      " * * * * * \n"
     ]
    }
   ],
   "source": [
    "n = 5 \n",
    "for i in range(n):\n",
    "    print((\"\"*(i)),(\"* \"*(i+1)))"
   ]
  },
  {
   "cell_type": "code",
   "execution_count": 222,
   "id": "6025145e",
   "metadata": {},
   "outputs": [
    {
     "name": "stdout",
     "output_type": "stream",
     "text": [
      " narmI ma I \n"
     ]
    }
   ],
   "source": [
    "a = \" I am Imran\"\n",
    "b = \" \"\n",
    "for  i in range(1,len(a)+1):\n",
    "    b += a[-i]\n",
    "print(b)"
   ]
  },
  {
   "cell_type": "code",
   "execution_count": 255,
   "id": "0c202f8e",
   "metadata": {},
   "outputs": [
    {
     "name": "stdout",
     "output_type": "stream",
     "text": [
      " personGoodisImran  "
     ]
    }
   ],
   "source": [
    "a = \" Imran is Good person\"\n",
    "b = a.split()\n",
    "c = \" \"\n",
    "for i in range(1,len(b)+1):\n",
    "     c+= b[-i]\n",
    "print(c,\" \",end=\"\")"
   ]
  },
  {
   "cell_type": "code",
   "execution_count": null,
   "id": "b8777e28",
   "metadata": {},
   "outputs": [],
   "source": []
  },
  {
   "cell_type": "code",
   "execution_count": 258,
   "id": "8ffbfba4",
   "metadata": {},
   "outputs": [
    {
     "name": "stdout",
     "output_type": "stream",
     "text": [
      "[1, 4, 16, 25, 9]\n"
     ]
    }
   ],
   "source": [
    "a =[1,2,4,5,3]\n",
    "b=[i*i for i in a]\n",
    "print(b)"
   ]
  },
  {
   "cell_type": "code",
   "execution_count": 261,
   "id": "c51de93c",
   "metadata": {},
   "outputs": [
    {
     "name": "stdout",
     "output_type": "stream",
     "text": [
      "[2, 4, 8, 10, 12, 2]\n"
     ]
    }
   ],
   "source": [
    "a = [1,2,4,5,8,7,10,12,15,2]\n",
    "l= list(filter(lambda x:x%2==0,a))\n",
    "print(l)"
   ]
  },
  {
   "cell_type": "code",
   "execution_count": null,
   "id": "452740a4",
   "metadata": {},
   "outputs": [],
   "source": [
    "filter()"
   ]
  },
  {
   "cell_type": "code",
   "execution_count": 262,
   "id": "08abb2e7",
   "metadata": {},
   "outputs": [
    {
     "name": "stdout",
     "output_type": "stream",
     "text": [
      "11\n"
     ]
    }
   ],
   "source": [
    "c = lambda a,b:a+b\n",
    "print(c(5,6))"
   ]
  },
  {
   "cell_type": "code",
   "execution_count": 263,
   "id": "271f1dff",
   "metadata": {},
   "outputs": [
    {
     "data": {
      "text/plain": [
       "[0, 16, 25, 36, 64, 36, 16, 64, 49, 49, 1681, 4, 1, 9, 25]"
      ]
     },
     "execution_count": 263,
     "metadata": {},
     "output_type": "execute_result"
    }
   ],
   "source": [
    "l = [0,4,5,6,8,6,4,8,7,7,41,2,1,3,5]\n",
    "l1 = list(map(lambda x:x*x,l))\n",
    "l1"
   ]
  },
  {
   "cell_type": "code",
   "execution_count": 264,
   "id": "8d7de1b1",
   "metadata": {},
   "outputs": [
    {
     "data": {
      "text/plain": [
       "[5, 7, 7, 41, 1, 3, 5]"
      ]
     },
     "execution_count": 264,
     "metadata": {},
     "output_type": "execute_result"
    }
   ],
   "source": [
    "l = [0,4,5,6,8,6,4,8,7,7,41,2,1,3,5]\n",
    "l2 = list(filter(lambda x:x%2!=0,l))\n",
    "l2"
   ]
  },
  {
   "cell_type": "code",
   "execution_count": 266,
   "id": "558aa492",
   "metadata": {},
   "outputs": [
    {
     "data": {
      "text/plain": [
       "[0, 4, 5, 6, 8, 7, 41, 2, 1, 3]"
      ]
     },
     "execution_count": 266,
     "metadata": {},
     "output_type": "execute_result"
    }
   ],
   "source": [
    "l3= []\n",
    "for i in l:\n",
    "    if i not in l3:\n",
    "        l3.append(i)\n",
    "l3"
   ]
  },
  {
   "cell_type": "code",
   "execution_count": 281,
   "id": "31aa4d92",
   "metadata": {},
   "outputs": [
    {
     "data": {
      "text/plain": [
       "{0: 1, 1: 1, 2: 1, 3: 1, 4: 2, 5: 2, 6: 2, 7: 2, 8: 2, 41: 1}"
      ]
     },
     "execution_count": 281,
     "metadata": {},
     "output_type": "execute_result"
    }
   ],
   "source": [
    "l5 = list(set(l))\n",
    "d = {}\n",
    "for i in l5:\n",
    "    d[i]=l.count(i)\n",
    "d\n"
   ]
  },
  {
   "cell_type": "code",
   "execution_count": 292,
   "id": "4e5891d8",
   "metadata": {},
   "outputs": [
    {
     "name": "stdout",
     "output_type": "stream",
     "text": [
      "most occuring number 4\n",
      "how many times occuring,count: 4\n"
     ]
    }
   ],
   "source": [
    "l = [0,4,5,6,8,6,4,4,4,8,7,7,41,2,1,3,5]\n",
    "temp = 0 \n",
    "count = 0\n",
    "index= 0\n",
    "for x in range(0,len(l)):\n",
    "    temp = l.count(l[x])\n",
    "    if temp >count:\n",
    "        count = temp\n",
    "        index= x\n",
    "most = l[index]\n",
    "print(\"most occuring number\",most)\n",
    "print(\"how many times occuring,count:\",count)"
   ]
  },
  {
   "cell_type": "code",
   "execution_count": 287,
   "id": "8e534cdb",
   "metadata": {},
   "outputs": [
    {
     "name": "stdout",
     "output_type": "stream",
     "text": [
      "the most occuring number in list : 8\n",
      "the number appeared  5 times in list\n"
     ]
    }
   ],
   "source": [
    "list = [1,2,3,4,5,6,6,7,8,9,6,8,10,8,8,8]\n",
    "\n",
    "count = 0\n",
    "temp = 0\n",
    "index = 0\n",
    "\n",
    "for x in range(0,len(list)):\n",
    "     temp = list.count(list[x])\n",
    "\n",
    "\n",
    "     if (temp > count):\n",
    "          count = temp\n",
    "          index = x\n",
    "\n",
    "most_occ_no = list[index]\n",
    "\n",
    "print(\"the most occuring number in list :\",most_occ_no)\n",
    "print(\"the number appeared \",count ,\"times in list\")"
   ]
  },
  {
   "cell_type": "code",
   "execution_count": 293,
   "id": "24eb2c7d",
   "metadata": {},
   "outputs": [
    {
     "name": "stdout",
     "output_type": "stream",
     "text": [
      "Most occuring number is:  5\n"
     ]
    }
   ],
   "source": [
    "l = [1,1,1,2,2,2,4,5,5,5,5,5]\n",
    "\n",
    "temp = 0 \n",
    "count= 0\n",
    "index= 0\n",
    "\n",
    "for i in range(0,len(l)):\n",
    "    temp = l.count(l[i])\n",
    "    if temp>count:\n",
    "        count = temp\n",
    "        index = i\n",
    "most_occurance = l[i]\n",
    "\n",
    "print(\"Most occuring number is: \",most_occurance)"
   ]
  },
  {
   "cell_type": "code",
   "execution_count": 294,
   "id": "561fab3f",
   "metadata": {},
   "outputs": [
    {
     "data": {
      "text/plain": [
       "{1: 1, 2: 4, 3: 9, 4: 16, 5: 25}"
      ]
     },
     "execution_count": 294,
     "metadata": {},
     "output_type": "execute_result"
    }
   ],
   "source": [
    "d = {x:x*x for x in range(1,6)}\n",
    "d"
   ]
  },
  {
   "cell_type": "code",
   "execution_count": 295,
   "id": "f8e79b6e",
   "metadata": {},
   "outputs": [
    {
     "data": {
      "text/plain": [
       "{1: 2, 2: 4, 3: 6, 4: 8, 5: 10}"
      ]
     },
     "execution_count": 295,
     "metadata": {},
     "output_type": "execute_result"
    }
   ],
   "source": [
    "d= {x:x*2 for x in range(1,6)}\n",
    "d"
   ]
  },
  {
   "cell_type": "code",
   "execution_count": 296,
   "id": "34dc895c",
   "metadata": {},
   "outputs": [
    {
     "data": {
      "text/plain": [
       "['A', 'B', 'C', 'D']"
      ]
     },
     "execution_count": 296,
     "metadata": {},
     "output_type": "execute_result"
    }
   ],
   "source": [
    "a = \"A B C D\"\n",
    "b = [i for i in a if i!=\" \"]\n",
    "b"
   ]
  },
  {
   "cell_type": "code",
   "execution_count": 46,
   "id": "f2166b66",
   "metadata": {},
   "outputs": [
    {
     "data": {
      "text/plain": [
       "['A', 'B', 'C', 'D']"
      ]
     },
     "execution_count": 46,
     "metadata": {},
     "output_type": "execute_result"
    }
   ],
   "source": [
    "a  = \"A B C D\"\n",
    "b = list(a)\n",
    "b = [i for i in a if i!=' ']\n",
    "b"
   ]
  },
  {
   "cell_type": "code",
   "execution_count": 56,
   "id": "a4788f9f",
   "metadata": {},
   "outputs": [
    {
     "data": {
      "text/plain": [
       "[0, 1, 2, 4, 6, 1190, 12, 16]"
      ]
     },
     "execution_count": 56,
     "metadata": {},
     "output_type": "execute_result"
    }
   ],
   "source": [
    "a = [1,2,3,4,5,69,7,8]\n",
    "b = [i*i*2//8 for i in a]\n",
    "b"
   ]
  },
  {
   "cell_type": "code",
   "execution_count": 6,
   "id": "19a49c9c",
   "metadata": {},
   "outputs": [
    {
     "name": "stdout",
     "output_type": "stream",
     "text": [
      "Enter the Tempature in Centigrade : 40\n",
      "Tempature in Farient: 104.0\n"
     ]
    }
   ],
   "source": [
    "c = int(input(\"Enter the Tempature in Centigrade : \"))\n",
    "f = (9*(int(c))/5)+32\n",
    "print(\"Tempature in Farient:\",f)"
   ]
  },
  {
   "cell_type": "code",
   "execution_count": 11,
   "id": "c6887442",
   "metadata": {},
   "outputs": [
    {
     "name": "stdout",
     "output_type": "stream",
     "text": [
      "enter first side of Triangle : 4\n",
      "enter second side of Triangle : 3\n",
      "enter third side of Triangle : 6\n",
      "The Area of Triangle :  5.332682251925386\n"
     ]
    }
   ],
   "source": [
    "import math\n",
    "a = int(input(\"enter first side of Triangle : \"))\n",
    "b = int(input(\"enter second side of Triangle : \"))\n",
    "c = int(input(\"enter third side of Triangle : \"))\n",
    "s = (a+b+c)/2\n",
    "area = math.sqrt(s*(s-a)*(s-b)*(s-c))\n",
    "print(\"The Area of Triangle : \", area)"
   ]
  },
  {
   "cell_type": "code",
   "execution_count": 39,
   "id": "7456160a",
   "metadata": {},
   "outputs": [
    {
     "name": "stdout",
     "output_type": "stream",
     "text": [
      "Enter the Number45\n",
      "45 is Odd\n"
     ]
    }
   ],
   "source": [
    "number = input(\"Enter the Number\")\n",
    "x = int(number)%2\n",
    "if x != 0: \n",
    "    print(number,\"is Odd\")\n",
    "else :\n",
    "    print(number,\"is Even\" )"
   ]
  },
  {
   "cell_type": "code",
   "execution_count": 44,
   "id": "6f3759c7",
   "metadata": {},
   "outputs": [
    {
     "name": "stdout",
     "output_type": "stream",
     "text": [
      "Enter the count of a numbers :5\n",
      "enter the Integer3\n",
      "enter the Integer8\n",
      "enter the Integer6\n",
      "enter the Integer7\n",
      "enter the Integer4\n",
      "average of numbers of count 5.6\n"
     ]
    }
   ],
   "source": [
    "count = int(input(\"Enter the count of a numbers :\"))\n",
    "i = 0\n",
    "sum = 0\n",
    "\n",
    "for i in range(count):\n",
    "    x = int(input(\"enter the Integer\"))\n",
    "    sum = sum + x\n",
    "avg = sum/count\n",
    "print(\"average of numbers of count\",avg)\n",
    "\n",
    "    "
   ]
  },
  {
   "cell_type": "code",
   "execution_count": 42,
   "id": "0169d82e",
   "metadata": {},
   "outputs": [
    {
     "name": "stdout",
     "output_type": "stream",
     "text": [
      "114\n"
     ]
    }
   ],
   "source": [
    "a = 23+1+5+64+21\n",
    "print(a)"
   ]
  },
  {
   "cell_type": "code",
   "execution_count": 43,
   "id": "46e487ac",
   "metadata": {},
   "outputs": [
    {
     "data": {
      "text/plain": [
       "22.8"
      ]
     },
     "execution_count": 43,
     "metadata": {},
     "output_type": "execute_result"
    }
   ],
   "source": [
    "b = 114/5\n",
    "b"
   ]
  },
  {
   "cell_type": "code",
   "execution_count": 2,
   "id": "eb7d580d",
   "metadata": {},
   "outputs": [
    {
     "name": "stdout",
     "output_type": "stream",
     "text": [
      "[1, 2, 5, 6, 81, 35, 4, 3]\n"
     ]
    }
   ],
   "source": [
    "a = [1,2,5,6,81,1,2,35,5,4,3,4,5,6]\n",
    "b = []\n",
    "for i in a:\n",
    "    if i not in b:\n",
    "        b.append(i)\n",
    "print(b)"
   ]
  },
  {
   "cell_type": "code",
   "execution_count": 33,
   "id": "34d6f1a2",
   "metadata": {},
   "outputs": [
    {
     "name": "stdout",
     "output_type": "stream",
     "text": [
      "Imran Am I\n"
     ]
    }
   ],
   "source": [
    "a = \" I Am Imran\"\n",
    "a = a.split()\n",
    "b= a[::-1]\n",
    "\n",
    "print(\" \".join(b))\n"
   ]
  },
  {
   "cell_type": "code",
   "execution_count": 58,
   "id": "23a2cd00",
   "metadata": {},
   "outputs": [
    {
     "name": "stdout",
     "output_type": "stream",
     "text": [
      "['a', 'b', 'c', 'd']\n"
     ]
    }
   ],
   "source": [
    "a = \"a b c d\"\n",
    "s = [i for i in a if i!=\" \"] \n",
    "print(s)"
   ]
  },
  {
   "cell_type": "code",
   "execution_count": 67,
   "id": "9dce0781",
   "metadata": {},
   "outputs": [
    {
     "name": "stdout",
     "output_type": "stream",
     "text": [
      "[2, 4, 6, 78, 6, 2]\n"
     ]
    },
    {
     "data": {
      "text/plain": [
       "[1, 5, 7, 3, 1]"
      ]
     },
     "execution_count": 67,
     "metadata": {},
     "output_type": "execute_result"
    }
   ],
   "source": [
    "a = [1,2,4,5,6,78,7,6,3,2,1]\n",
    "b = list(filter(lambda x:x%2==0,a))\n",
    "c = list(filter(lambda x:x%2!=0,a))\n",
    "\n",
    "print(b)\n",
    "c"
   ]
  },
  {
   "cell_type": "code",
   "execution_count": 72,
   "id": "4bd90283",
   "metadata": {},
   "outputs": [
    {
     "data": {
      "text/plain": [
       "[2, 4, 6, 8, 10, 12, 14, 16, 18]"
      ]
     },
     "execution_count": 72,
     "metadata": {},
     "output_type": "execute_result"
    }
   ],
   "source": [
    "a = [x for x in range(1,20) if x%2==0]\n",
    "a"
   ]
  },
  {
   "cell_type": "code",
   "execution_count": 148,
   "id": "a15711dd",
   "metadata": {},
   "outputs": [
    {
     "name": "stdout",
     "output_type": "stream",
     "text": [
      "2 3 5 7 11 13 17 19 23 "
     ]
    }
   ],
   "source": [
    "for v in range(2, 25):\n",
    "  if v > 1:\n",
    "    for i in range(2, v):\n",
    "       if (v % i) == 0:\n",
    "        break\n",
    "    else:\n",
    "       print(v, end=\" \")"
   ]
  },
  {
   "cell_type": "code",
   "execution_count": 116,
   "id": "f5fe8ef8",
   "metadata": {},
   "outputs": [
    {
     "name": "stdout",
     "output_type": "stream",
     "text": [
      "Prime numbers between 900 and 1000 are:\n",
      "907 911 919 929 937 941 947 953 967 971 977 983 991 997 "
     ]
    }
   ],
   "source": [
    "lower = 900\n",
    "upper = 1000\n",
    "\n",
    "print(\"Prime numbers between\", lower, \"and\", upper, \"are:\")\n",
    "\n",
    "for num in range(lower, upper + 1):\n",
    "   # all prime numbers are greater than 1\n",
    "   if num > 1:\n",
    "       for i in range(2, num):\n",
    "           if (num % i) == 0:\n",
    "               break\n",
    "       else:\n",
    "           print(num,end = \" \")"
   ]
  },
  {
   "cell_type": "code",
   "execution_count": 151,
   "id": "d2e7523b",
   "metadata": {},
   "outputs": [
    {
     "name": "stdout",
     "output_type": "stream",
     "text": [
      "3\n",
      "5\n",
      "7\n",
      "11\n",
      "13\n",
      "17\n",
      "19\n",
      "23\n"
     ]
    }
   ],
   "source": [
    "for i in range(3,25+1):\n",
    "   if i > 1:\n",
    "    for j in range(2,i):\n",
    "        if (i % j ) ==0 :\n",
    "            break\n",
    "    else:\n",
    "       print(i)"
   ]
  },
  {
   "cell_type": "code",
   "execution_count": 154,
   "id": "21cae6ff",
   "metadata": {},
   "outputs": [
    {
     "name": "stdout",
     "output_type": "stream",
     "text": [
      "2 3 5 7 11 13 17 19 23 29 31 37 41 43 47 53 59 61 67 71 73 79 "
     ]
    }
   ],
   "source": [
    "for i in range(2,80):\n",
    "    if i>1:\n",
    "        for j in range(2,i):\n",
    "            if(i%j)==0:\n",
    "                break\n",
    "        else:\n",
    "            print(i,end=\" \")\n",
    "            "
   ]
  },
  {
   "cell_type": "code",
   "execution_count": null,
   "id": "3e3d6937",
   "metadata": {},
   "outputs": [],
   "source": []
  }
 ],
 "metadata": {
  "kernelspec": {
   "display_name": "Python 3 (ipykernel)",
   "language": "python",
   "name": "python3"
  },
  "language_info": {
   "codemirror_mode": {
    "name": "ipython",
    "version": 3
   },
   "file_extension": ".py",
   "mimetype": "text/x-python",
   "name": "python",
   "nbconvert_exporter": "python",
   "pygments_lexer": "ipython3",
   "version": "3.9.4"
  }
 },
 "nbformat": 4,
 "nbformat_minor": 5
}
