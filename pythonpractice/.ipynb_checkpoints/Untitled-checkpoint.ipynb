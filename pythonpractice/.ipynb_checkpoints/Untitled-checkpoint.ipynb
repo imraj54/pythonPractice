{
 "cells": [
  {
   "cell_type": "code",
   "execution_count": 1,
   "id": "30dd8b67",
   "metadata": {},
   "outputs": [
    {
     "ename": "SyntaxError",
     "evalue": "unexpected EOF while parsing (2499176915.py, line 4)",
     "output_type": "error",
     "traceback": [
      "\u001b[1;36m  Input \u001b[1;32mIn [1]\u001b[1;36m\u001b[0m\n\u001b[1;33m    \u001b[0m\n\u001b[1;37m    ^\u001b[0m\n\u001b[1;31mSyntaxError\u001b[0m\u001b[1;31m:\u001b[0m unexpected EOF while parsing\n"
     ]
    }
   ],
   "source": [
    "n =10 \n",
    "for i in range(n):\n",
    "    print((\" \" * -i)(\"*\" *(n-i) )\n",
    "    "
   ]
  },
  {
   "cell_type": "code",
   "execution_count": 12,
   "id": "63fc200c",
   "metadata": {},
   "outputs": [
    {
     "name": "stdout",
     "output_type": "stream",
     "text": [
      "54321"
     ]
    }
   ],
   "source": [
    "for i in range(5,0,-1):\n",
    "    \n",
    "    print(i,end=\"\")"
   ]
  },
  {
   "cell_type": "code",
   "execution_count": 18,
   "id": "e0081477",
   "metadata": {},
   "outputs": [
    {
     "data": {
      "text/plain": [
       "'narmI'"
      ]
     },
     "execution_count": 18,
     "metadata": {},
     "output_type": "execute_result"
    }
   ],
   "source": [
    "s =  \"Imran\"\n",
    "(s[::-1])"
   ]
  },
  {
   "cell_type": "code",
   "execution_count": 19,
   "id": "3c2fdf14",
   "metadata": {},
   "outputs": [
    {
     "data": {
      "text/plain": [
       "'Imran'"
      ]
     },
     "execution_count": 19,
     "metadata": {},
     "output_type": "execute_result"
    }
   ],
   "source": [
    "s"
   ]
  },
  {
   "cell_type": "code",
   "execution_count": 37,
   "id": "b89198b3",
   "metadata": {},
   "outputs": [
    {
     "name": "stdout",
     "output_type": "stream",
     "text": [
      "I ma narmI "
     ]
    }
   ],
   "source": [
    "s = 'I am Imran'\n",
    "s = s.split()\n",
    "for i in s:\n",
    "    print(i[::-1],end=\" \")"
   ]
  },
  {
   "cell_type": "code",
   "execution_count": 53,
   "id": "d634a88d",
   "metadata": {},
   "outputs": [
    {
     "name": "stdout",
     "output_type": "stream",
     "text": [
      " narmI\n"
     ]
    }
   ],
   "source": [
    "s = \"Imran\"\n",
    "b = \" \"\n",
    "for i in range(1,len(s)+1):\n",
    "    b += s[-i]\n",
    "print(b)"
   ]
  },
  {
   "cell_type": "code",
   "execution_count": 89,
   "id": "98528921",
   "metadata": {},
   "outputs": [
    {
     "name": "stdout",
     "output_type": "stream",
     "text": [
      "100\n"
     ]
    }
   ],
   "source": [
    "list = [1,5,62,6,7,8,9,100]\n",
    "a = 0\n",
    "for i in list:\n",
    "    if i > a:\n",
    "       a = i\n",
    "print(a)"
   ]
  },
  {
   "cell_type": "code",
   "execution_count": 112,
   "id": "0cc208cb",
   "metadata": {},
   "outputs": [
    {
     "name": "stdout",
     "output_type": "stream",
     "text": [
      "10\n"
     ]
    }
   ],
   "source": [
    "a = \"I am Imran\"\n",
    "c = 0\n",
    "for i in a:\n",
    "    c += 1\n",
    "print(c)"
   ]
  },
  {
   "cell_type": "code",
   "execution_count": 155,
   "id": "d1074e89",
   "metadata": {},
   "outputs": [
    {
     "name": "stdout",
     "output_type": "stream",
     "text": [
      "24\n"
     ]
    }
   ],
   "source": [
    "n = 4\n",
    "fact = 1\n",
    "while(n>1):\n",
    "    fact = fact*n\n",
    "    n -= 1\n",
    "print(fact)"
   ]
  },
  {
   "cell_type": "code",
   "execution_count": 157,
   "id": "7cde81d8",
   "metadata": {},
   "outputs": [
    {
     "name": "stdout",
     "output_type": "stream",
     "text": [
      "10\n"
     ]
    }
   ],
   "source": [
    "a =10\n",
    "print(a)\n"
   ]
  },
  {
   "cell_type": "code",
   "execution_count": 163,
   "id": "4a966a82",
   "metadata": {},
   "outputs": [
    {
     "name": "stdout",
     "output_type": "stream",
     "text": [
      "720\n"
     ]
    }
   ],
   "source": [
    "num = 6\n",
    "fac = 1\n",
    "while (num>1):\n",
    "    fac = fac*num\n",
    "    num -= 1\n",
    "print(fac)"
   ]
  },
  {
   "cell_type": "code",
   "execution_count": 232,
   "id": "af5f03b9",
   "metadata": {},
   "outputs": [
    {
     "name": "stdout",
     "output_type": "stream",
     "text": [
      "333\n",
      "222\n",
      "111\n"
     ]
    }
   ],
   "source": [
    "n = 3\n",
    "for i in range(3,0,-1):\n",
    "    for j in range(3,0,-1):\n",
    "            print(i,end=\"\")\n",
    "    print()"
   ]
  },
  {
   "cell_type": "code",
   "execution_count": 164,
   "id": "fe3ce28b",
   "metadata": {
    "scrolled": true
   },
   "outputs": [
    {
     "name": "stdout",
     "output_type": "stream",
     "text": [
      " * * * * * * * * * * \n",
      "  * * * * * * * * * \n",
      "   * * * * * * * * \n",
      "    * * * * * * * \n",
      "     * * * * * * \n",
      "      * * * * * \n",
      "       * * * * \n",
      "        * * * \n",
      "         * * \n",
      "          * \n"
     ]
    }
   ],
   "source": [
    "n =10\n",
    "\n",
    "for i in range(n):\n",
    "    print((\" \"*(i)),(\"* \"*(n-i)))"
   ]
  },
  {
   "cell_type": "code",
   "execution_count": 179,
   "id": "044f83e2",
   "metadata": {},
   "outputs": [
    {
     "name": "stdout",
     "output_type": "stream",
     "text": [
      "[1, 2, 3, 5, 4, 6]\n"
     ]
    }
   ],
   "source": [
    "L = [1, 2,2,3,5 ,4,6,3,5,]\n",
    "L1 = [2,4,3,7,8,1,9]\n",
    "B = []\n",
    "for i in L:\n",
    "    if  i not in B:\n",
    "        B.append(i)\n",
    "print(B)\n",
    "        "
   ]
  },
  {
   "cell_type": "code",
   "execution_count": 183,
   "id": "26b2e825",
   "metadata": {},
   "outputs": [
    {
     "name": "stdout",
     "output_type": "stream",
     "text": [
      "120\n"
     ]
    }
   ],
   "source": [
    "num = 5\n",
    "fact = 1\n",
    "\n",
    "while(num>1):\n",
    "    fact = fact*num\n",
    "    num -= 1\n",
    "print(fact)\n",
    "    "
   ]
  },
  {
   "cell_type": "code",
   "execution_count": 197,
   "id": "da82d7f9",
   "metadata": {},
   "outputs": [
    {
     "name": "stdout",
     "output_type": "stream",
     "text": [
      "0\n",
      "1\n",
      "1\n",
      "2\n",
      "3\n",
      "5\n",
      "8\n",
      "13\n",
      "21\n",
      "34\n"
     ]
    }
   ],
   "source": [
    "n = 10\n",
    "a = 0\n",
    "b = 1\n",
    "print(a)\n",
    "print(b)\n",
    "c =a+b\n",
    "for i in range(n-2):\n",
    "    print(c)\n",
    "    a = b\n",
    "    b = c\n",
    "    c =a+b"
   ]
  },
  {
   "cell_type": "code",
   "execution_count": null,
   "id": "3df016d1",
   "metadata": {},
   "outputs": [],
   "source": [
    "n = 5\n",
    "for i in range(n,0,-1):\n",
    "    for j in range(i,0,-1):\n",
    "        print(i,end=\" \")\n",
    "    print()"
   ]
  },
  {
   "cell_type": "code",
   "execution_count": 51,
   "id": "3733d473",
   "metadata": {},
   "outputs": [
    {
     "ename": "TypeError",
     "evalue": "'NoneType' object is not callable",
     "output_type": "error",
     "traceback": [
      "\u001b[1;31m---------------------------------------------------------------------------\u001b[0m",
      "\u001b[1;31mTypeError\u001b[0m                                 Traceback (most recent call last)",
      "Input \u001b[1;32mIn [51]\u001b[0m, in \u001b[0;36m<cell line: 10>\u001b[1;34m()\u001b[0m\n\u001b[0;32m      8\u001b[0m     r \u001b[38;5;241m=\u001b[39m a\u001b[38;5;241m-\u001b[39mb\n\u001b[0;32m      9\u001b[0m     \u001b[38;5;28;01mreturn\u001b[39;00m r\n\u001b[1;32m---> 10\u001b[0m \u001b[43mmins\u001b[49m\u001b[43m(\u001b[49m\u001b[38;5;241;43m10\u001b[39;49m\u001b[43m,\u001b[49m\u001b[38;5;241;43m40\u001b[39;49m\u001b[43m)\u001b[49m\n",
      "\u001b[1;31mTypeError\u001b[0m: 'NoneType' object is not callable"
     ]
    }
   ],
   "source": [
    "from math import *\n",
    "def Outer(func):\n",
    "    def Inner(a,b):\n",
    "        print(\"poaisitve\")\n",
    "        func()\n",
    "\n",
    "@Outer\n",
    "def mins(a,b):\n",
    "    r = a-b\n",
    "    print(fabs(r))\n",
    "mins(10,40)\n",
    "\n",
    "\n"
   ]
  },
  {
   "cell_type": "code",
   "execution_count": null,
   "id": "fb0a733f",
   "metadata": {},
   "outputs": [],
   "source": []
  }
 ],
 "metadata": {
  "kernelspec": {
   "display_name": "Python 3 (ipykernel)",
   "language": "python",
   "name": "python3"
  },
  "language_info": {
   "codemirror_mode": {
    "name": "ipython",
    "version": 3
   },
   "file_extension": ".py",
   "mimetype": "text/x-python",
   "name": "python",
   "nbconvert_exporter": "python",
   "pygments_lexer": "ipython3",
   "version": "3.9.4"
  }
 },
 "nbformat": 4,
 "nbformat_minor": 5
}
