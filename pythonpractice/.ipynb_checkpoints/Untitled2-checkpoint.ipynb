{
 "cells": [
  {
   "cell_type": "code",
   "execution_count": 23,
   "id": "d02fc958",
   "metadata": {},
   "outputs": [
    {
     "name": "stdout",
     "output_type": "stream",
     "text": [
      " * * * * * * * * * * \n",
      "  * * * * * * * * * \n",
      "   * * * * * * * * \n",
      "    * * * * * * * \n",
      "     * * * * * * \n",
      "      * * * * * \n",
      "       * * * * \n",
      "        * * * \n",
      "         * * \n",
      "          * \n"
     ]
    }
   ],
   "source": [
    "n = 10\n",
    "for i in range(n):\n",
    "    print((\" \"*(i)),(\"* \"*(n-i)))\n",
    "    "
   ]
  },
  {
   "cell_type": "code",
   "execution_count": 31,
   "id": "02f7057e",
   "metadata": {},
   "outputs": [
    {
     "name": "stdout",
     "output_type": "stream",
     "text": [
      "120\n"
     ]
    }
   ],
   "source": [
    "n = 5\n",
    "fact = 1\n",
    "while (n>1):\n",
    "    fact = fact*n\n",
    "    n -=1\n",
    "\n",
    "print(fact)"
   ]
  },
  {
   "cell_type": "code",
   "execution_count": 81,
   "id": "0d2e549f",
   "metadata": {},
   "outputs": [
    {
     "name": "stdout",
     "output_type": "stream",
     "text": [
      "0\n",
      "1\n",
      "1\n",
      "2\n",
      "3\n",
      "5\n",
      "8\n",
      "13\n",
      "21\n",
      "34\n",
      "55\n",
      "89\n"
     ]
    }
   ],
   "source": [
    "n = 15\n",
    "a= 0\n",
    "b = 1\n",
    "print(a)\n",
    "print(b)\n",
    "for i in range(n-2):\n",
    "    \n",
    "    c = a+b\n",
    "    a = b\n",
    "    b = c\n",
    "    if c >=100:\n",
    "        break\n",
    "    print(c)"
   ]
  },
  {
   "cell_type": "code",
   "execution_count": 83,
   "id": "5cfd51ea",
   "metadata": {},
   "outputs": [
    {
     "data": {
      "text/plain": [
       "[1, 5, 6, 7, 2, 23, 3, 4, 11, 45]"
      ]
     },
     "execution_count": 83,
     "metadata": {},
     "output_type": "execute_result"
    }
   ],
   "source": [
    "l = [1,5,6,7,6,1,7,2,1,23,3,4,23,4,11,3,3,45,4]\n",
    "b = []\n",
    "for i in l:\n",
    "    if i not in b:\n",
    "        b.append(i)\n",
    "b"
   ]
  },
  {
   "cell_type": "code",
   "execution_count": 86,
   "id": "95e5644b",
   "metadata": {},
   "outputs": [
    {
     "name": "stdout",
     "output_type": "stream",
     "text": [
      "19\n",
      "19\n"
     ]
    }
   ],
   "source": [
    "l = [1,5,6,7,6,1,7,2,1,23,3,4,23,4,11,3,3,45,4]\n",
    "count = 0\n",
    "for i in l:\n",
    "    count +=1\n",
    "print(count)\n",
    "print(len(l))"
   ]
  },
  {
   "cell_type": "code",
   "execution_count": 89,
   "id": "7e90196c",
   "metadata": {},
   "outputs": [
    {
     "name": "stdout",
     "output_type": "stream",
     "text": [
      "18\n"
     ]
    }
   ],
   "source": [
    "a = \"ablkfjajfljaljflka\"\n",
    "count = 0\n",
    "for i in a:\n",
    "    count +=1\n",
    "print(count)"
   ]
  },
  {
   "cell_type": "code",
   "execution_count": 134,
   "id": "2d0e20e9",
   "metadata": {},
   "outputs": [
    {
     "data": {
      "text/plain": [
       "['Imran', 'is', 'name', 'My']"
      ]
     },
     "execution_count": 134,
     "metadata": {},
     "output_type": "execute_result"
    }
   ],
   "source": [
    "a = \"My name is Imran\"\n",
    "b = a.split()\n",
    "# for i in b:\n",
    "\n",
    "#     print(i[::-1],end=\" \")\n",
    "b = b[::-1]\n",
    "b"
   ]
  },
  {
   "cell_type": "code",
   "execution_count": 178,
   "id": "653fa66f",
   "metadata": {},
   "outputs": [
    {
     "name": "stdout",
     "output_type": "stream",
     "text": [
      " narmI si eman yM\n"
     ]
    }
   ],
   "source": [
    "a = \"My name is Imran\"\n",
    "b = \" \"\n",
    "for i in range(1,len(a)+1):\n",
    "    b +=a[-i]\n",
    "print(b)\n"
   ]
  },
  {
   "cell_type": "code",
   "execution_count": 143,
   "id": "c328cb7f",
   "metadata": {},
   "outputs": [
    {
     "name": "stdout",
     "output_type": "stream",
     "text": [
      "987654321\n"
     ]
    }
   ],
   "source": [
    "n = 123456789\n",
    "rev = 0\n",
    "while (n!=0):\n",
    "    rem = n%10\n",
    "    rev = rev*10+rem\n",
    "    n = n//10\n",
    "print(rev)\n",
    "    "
   ]
  },
  {
   "cell_type": "code",
   "execution_count": 175,
   "id": "ffd6d335",
   "metadata": {},
   "outputs": [
    {
     "name": "stdout",
     "output_type": "stream",
     "text": [
      "987654321\n"
     ]
    }
   ],
   "source": [
    "n = 123456789\n",
    "rev = 0\n",
    "while n !=0:\n",
    "    rem = n%10\n",
    "    rev = rev*10+rem\n",
    "    n //= 10\n",
    "print(rev)\n",
    "\n",
    "    "
   ]
  },
  {
   "cell_type": "code",
   "execution_count": 171,
   "id": "939c5ae6",
   "metadata": {},
   "outputs": [
    {
     "name": "stdout",
     "output_type": "stream",
     "text": [
      "07588091497\n"
     ]
    }
   ],
   "source": [
    "n = 79419088570\n",
    "print(str(n)[::-1])"
   ]
  },
  {
   "cell_type": "code",
   "execution_count": 196,
   "id": "ec53b1fb",
   "metadata": {},
   "outputs": [
    {
     "name": "stdout",
     "output_type": "stream",
     "text": [
      "55555\n",
      "4444\n",
      "333\n",
      "22\n",
      "1\n"
     ]
    }
   ],
   "source": [
    "for i in range(5,0,-1):\n",
    "    for j in range(i,0,-1):\n",
    "        print(i,end=\"\")\n",
    "    print()"
   ]
  },
  {
   "cell_type": "code",
   "execution_count": 399,
   "id": "17bc9b3d",
   "metadata": {},
   "outputs": [
    {
     "name": "stdout",
     "output_type": "stream",
     "text": [
      "[6, 8, 6, 12, 4]\n",
      "[1, 5, 47, 7, 5, 121]\n",
      "[0, 2, 3, 23, 3, 4, 2, 3, 60, 6, 2]\n"
     ]
    }
   ],
   "source": [
    "a = [1,5,6,47,7,8,5,6,121,12,4]\n",
    "b = list(filter (lambda x:x%2==0,a))\n",
    "c = list(filter (lambda x:x%2!=0,a))\n",
    "d = list(map(lambda x : x//2,a))\n",
    "print(b)\n",
    "\n",
    "print(c)\n",
    "print(d)"
   ]
  },
  {
   "cell_type": "code",
   "execution_count": 407,
   "id": "d05dafa5",
   "metadata": {
    "scrolled": false
   },
   "outputs": [
    {
     "name": "stdout",
     "output_type": "stream",
     "text": [
      "2 8 12 6 8 "
     ]
    }
   ],
   "source": [
    "a = [1,2,5,7,8,12,6,8]\n",
    "for i in a:\n",
    "    if i%2==0:\n",
    "        print(i,end=' ')\n",
    "        "
   ]
  },
  {
   "cell_type": "code",
   "execution_count": 417,
   "id": "b49ff40b",
   "metadata": {},
   "outputs": [
    {
     "name": "stdout",
     "output_type": "stream",
     "text": [
      "7 12 17 "
     ]
    }
   ],
   "source": [
    "b = [2,4,8,9,7,5,10,12,16,17]\n",
    "c = [2,4,6,8,9,5,10,16,5,1,1,1,1,1,2]\n",
    "for i in b:\n",
    "    if i not in c:\n",
    "        print(i,end=\" \")"
   ]
  },
  {
   "cell_type": "code",
   "execution_count": 420,
   "id": "063dcc16",
   "metadata": {},
   "outputs": [
    {
     "data": {
      "text/plain": [
       "[2,\n",
       " 4,\n",
       " 8,\n",
       " 9,\n",
       " 7,\n",
       " 5,\n",
       " 10,\n",
       " 12,\n",
       " 16,\n",
       " 17,\n",
       " 2,\n",
       " 4,\n",
       " 6,\n",
       " 8,\n",
       " 9,\n",
       " 5,\n",
       " 10,\n",
       " 16,\n",
       " 5,\n",
       " 1,\n",
       " 1,\n",
       " 1,\n",
       " 1,\n",
       " 1,\n",
       " 2]"
      ]
     },
     "execution_count": 420,
     "metadata": {},
     "output_type": "execute_result"
    }
   ],
   "source": [
    "d =b+c\n",
    "d"
   ]
  },
  {
   "cell_type": "code",
   "execution_count": null,
   "id": "fb1752ea",
   "metadata": {},
   "outputs": [],
   "source": []
  }
 ],
 "metadata": {
  "kernelspec": {
   "display_name": "Python 3 (ipykernel)",
   "language": "python",
   "name": "python3"
  },
  "language_info": {
   "codemirror_mode": {
    "name": "ipython",
    "version": 3
   },
   "file_extension": ".py",
   "mimetype": "text/x-python",
   "name": "python",
   "nbconvert_exporter": "python",
   "pygments_lexer": "ipython3",
   "version": "3.9.4"
  }
 },
 "nbformat": 4,
 "nbformat_minor": 5
}
